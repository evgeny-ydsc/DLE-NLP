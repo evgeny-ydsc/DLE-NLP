{
 "cells": [
  {
   "cell_type": "markdown",
   "id": "03ce0391",
   "metadata": {},
   "source": [
    "# Проект: pretraining LLM и posttraining LLM\n",
    "\n",
    "## Постановка задачи\n",
    "\n",
    "- **Pretraining**\n",
    "    - Претрейн — самый ресурсоёмкий этап обучения LLM. Чтобы полноценно обучить даже небольшую модель (менее 1B), понадобится более 10к GPU-часов на A100. Чтобы не тратить недели на обучение, но отработать ключевые приёмы, в проекте вы выполните упрощённую задачу. \n",
    "    - При полноценном претрейне модель учится обобщать знания из данных, на которых происходило обучение, чтобы потом извлекать эти знания по текстовым запросам уже после обучения. Упростим задачу — научим модель только структуре языка. \n",
    "    - Сосредоточимся на одном узком домене — **текстах произведений русской литературы** — и **обучим модель продолжать фразы из этого домена разумным текстом**. \n",
    "- **Posttraining**\n",
    "    - Для SFT-этапа можно использовать значительно меньше данных, поэтому возьмём модель крупнее. Рассмотрим базовую модель **Qwen2.5-0.5B**, с которой вы встречались в уроках. **Обучите её генерировать ответы на инструктивные русскоязычные вопросы**.\n",
    "\n",
    "## Критерии успеха\n",
    "- **Pretraining** - **чтобы оценить качество, используйте промпты**:\n",
    "    - \"Все мысли, которые имеют огромные последствия\",\n",
    "    - \"Сила войска зависит от его духа\",\n",
    "    - \"Мысль о том, что он принес страдания\",\n",
    "    - \"Человек сознает себя свободным\",\n",
    "    - \"Что бы ни случилось, я всегда буду\",\n",
    "    - \"Любовь мешает смерти\",\n",
    "    - \"Нет, жизнь не кончена\",\n",
    "    - \"Всякая мысль, даже самая простая\",\n",
    "    - \"Война не любезность, а самое гадкое дело\",\n",
    "    - \"Чтобы жить честно\"\n",
    "- **Posttraining** - Факты могут быть ошибочными, но **язык ответа должен быть русским и должна сохраняться структура ответа**. Качество данных **должно быть сопоставимо с таким вариантом**:\n",
    "    - Model Input 1:\n",
    "    сколько планет в нашей солнечной системе?\n",
    "        - Model Output 1:\n",
    "    Согласно последним исследованиям, Солнце имеет 8 планеты. Это дает планетам, которые соответствуют разным критериям, таким как диета, местоположение, плотность, климат и другие.\n",
    "    assistant\n",
    "    Общее размер нашей Солнечной системы составляет примерно 9,9 миллиарда километров, а в результате на каждом из них есть планета,\n",
    "    - Model Input 2:\n",
    "    расскажи стих\n",
    "        - Model Output 2:\n",
    "    Вот сладкий сладкий вкус, который ты получаешь на себе\n",
    "    Когда я говорю, что я люблю тебя\n",
    "    Мое сердце, у меня есть все, что я хочу, чтобы сделать\n",
    "    У меня есть все, что мне нужно, чтобы быть хорошим\n",
    "    Так давай пойдем в ресторан\n",
    "    assistant\n",
    "    Пока мы уседим, что мы можем\n",
    "    И в этот момент мы возвращаемся к при\n",
    "    - Model Input 3:\n",
    "    когда собирать крыжовник?\n",
    "        - Model Output 3:\n",
    "    Когда собираешь крыжовник, важно не беспокоиться о том, что другие могут его хвастаться. Вместо этого проверяйте свои способности и готовность. Вы можете изучить свой талант и стремления, прежде чем принимать решение, и признавать, что у вас есть свои сильные стороны, а также слабые места. Не снимайте крыжовник в обществе, и обязательно помните о\n",
    "    - Model Input 4:\n",
    "    Как быстро выучить новый язык?\n",
    "        - Model Output 4:\n",
    "    Скорость усвоения нового языка может сильно различаться в зависимости от нескольких факторов, таких как скорость, с которой вы пакетируете информацию через ее и ее способность учиться в различных условиях. Тем не менее, вот некоторые общие рекомендации: 1. Делайте сценарии. Обычно это может занять от 2 до 4 лет, чтобы понять основные концепции. Вы можете начать с"
   ]
  },
  {
   "cell_type": "markdown",
   "id": "4343bf23",
   "metadata": {},
   "source": [
    "<div class=\"alert alert-secondary\" style=\"background-color:#D9EEE1;color:black;\">\n",
    "\n",
    "## Описание данных\n",
    "\n",
    "- Pretrain\n",
    "    - https://github.com/JoannaBy/RussianNovels/tree/master/corpus \n",
    "- Posttrain\n",
    "    - русскоязычный инструктивный датасет [d0rj/alpaca-cleaned-ru](https://huggingface.co/datasets/d0rj/alpaca-cleaned-ru) в диалоговом формате"
   ]
  },
  {
   "cell_type": "markdown",
   "id": "e905d42a",
   "metadata": {},
   "source": [
    "## Инициализация"
   ]
  },
  {
   "cell_type": "markdown",
   "id": "fb4fd01d",
   "metadata": {},
   "source": [
    "### Импорт библиотек"
   ]
  },
  {
   "cell_type": "raw",
   "id": "fc2623a4",
   "metadata": {
    "vscode": {
     "languageId": "raw"
    }
   },
   "source": [
    "!pip install GitPython -q\n",
    "!pip install accelerate==0.26.0"
   ]
  },
  {
   "cell_type": "code",
   "execution_count": 1,
   "id": "cb23077c",
   "metadata": {},
   "outputs": [
    {
     "name": "stderr",
     "output_type": "stream",
     "text": [
      "C:\\Users\\Papa\\AppData\\Roaming\\Python\\Python311\\site-packages\\tqdm\\auto.py:21: TqdmWarning: IProgress not found. Please update jupyter and ipywidgets. See https://ipywidgets.readthedocs.io/en/stable/user_install.html\n",
      "  from .autonotebook import tqdm as notebook_tqdm\n",
      "W1029 22:57:21.545000 22360 torch\\distributed\\elastic\\multiprocessing\\redirects.py:29] NOTE: Redirects are currently not supported in Windows or MacOs.\n"
     ]
    }
   ],
   "source": [
    "import os\n",
    "import re\n",
    "from git import Repo\n",
    "from pathlib import Path\n",
    "from datasets import Dataset, DatasetDict\n",
    "import pandas as pd\n",
    "from tokenizers import Tokenizer, pre_tokenizers, trainers\n",
    "from transformers import (\n",
    "    LlamaConfig,\n",
    "    LlamaForCausalLM,\n",
    "    PreTrainedTokenizerFast,\n",
    "    Trainer,\n",
    "    TrainingArguments,\n",
    "    TrainerCallback,\n",
    "    DataCollatorForLanguageModeling\n",
    ")\n",
    "from tokenizers.models import BPE\n",
    "from transformers import LlamaConfig, LlamaForCausalLM\n",
    "from transformers import Trainer, TrainingArguments\n",
    "import torch\n",
    "import accelerate"
   ]
  },
  {
   "cell_type": "markdown",
   "id": "07b78884",
   "metadata": {},
   "source": [
    "### Установка главных параметров"
   ]
  },
  {
   "cell_type": "code",
   "execution_count": 2,
   "id": "c0e48b31",
   "metadata": {},
   "outputs": [],
   "source": [
    "PRETRAIN_DATASET =  \"pretrain-dataset\"\n",
    "DICT_SIZE = 3000\n",
    "SPECIAL_TOKEN = \"<|endoftext|>\"\n",
    "CONTEXT_LENGTH = 512"
   ]
  },
  {
   "cell_type": "markdown",
   "id": "6c3f98b8",
   "metadata": {},
   "source": [
    "# Pretraining"
   ]
  },
  {
   "cell_type": "markdown",
   "id": "5f277c58",
   "metadata": {},
   "source": [
    "<div class=\"alert alert-secondary\">\n",
    "\n",
    "\n",
    "Скачайте данные из репозитория и упакуйте их в один датасет. Вам понадобятся все произведения из репозитория.\n",
    "\n",
    "Проведите препроцессинг данных:\n",
    "- Очистите их от дубликатов.\n",
    "- Очистите от предложений с буквами не из кириллицы.\n",
    "- Обработайте повторяющуюся пунктуацию и т. д.\n",
    "- Разбейте на чанки поменьше, чтобы можно было добавить <bos> и <eos> токены в соответствии с обучаемой длиной контекста."
   ]
  },
  {
   "cell_type": "code",
   "execution_count": 3,
   "id": "2aff8ed8",
   "metadata": {},
   "outputs": [],
   "source": [
    "if not os.path.isdir(PRETRAIN_DATASET):\n",
    "    Repo.clone_from(\"https://github.com/JoannaBy/RussianNovels.git\", PRETRAIN_DATASET) "
   ]
  },
  {
   "cell_type": "code",
   "execution_count": 4,
   "id": "929d9c83",
   "metadata": {},
   "outputs": [],
   "source": [
    "texts = []\n",
    "for file_path in Path(Path(PRETRAIN_DATASET, \"corpus\")).glob(\"*.txt\"):\n",
    "    with file_path.open(\"r\", encoding=\"utf-8\") as f:\n",
    "        for line in f:\n",
    "            texts.append(line.strip())\n",
    "\n",
    "# удалим строки с недопустимыми символами\n",
    "allowed_pattern = re.compile(r\"^[А-Яа-яЁё0-9.,!?;:\\-()\\\"'\\s]+$\")\n",
    "texts = [t for t in texts if allowed_pattern.fullmatch(t)]\n",
    "\n",
    "# Заменяем повторяющиеся знаки пунктуации на один\n",
    "texts = [re.sub(r'([.,!?;:\\-()])\\1+', r'\\1', t) for t in texts]\n",
    "\n",
    "#удалим дубликаты\n",
    "texts = pd.DataFrame({'t': texts}).drop_duplicates()['t'].tolist()\n",
    "\n",
    "#перенесём строки, если они длиннее 300 слов\n",
    "max_words = 300 # из рассчёта, что ~1.5 токена на слово, а токенов у нас в контексте 512\n",
    "result = []\n",
    "for text in texts:\n",
    "    words = text.split()\n",
    "    if len(words) > max_words:\n",
    "        parts = [' '.join(words[i:i + max_words]) \\\n",
    "                    for i in range(0, len(words), max_words)]\n",
    "        result.extend(parts)\n",
    "    else:\n",
    "        result.append(text)\n",
    "texts = result"
   ]
  },
  {
   "cell_type": "code",
   "execution_count": 5,
   "id": "21f3d605",
   "metadata": {},
   "outputs": [
    {
     "data": {
      "text/plain": [
       "'- Тяжкое, тяжкое время, что говорить, - пробормотал он, - но унывать-то'"
      ]
     },
     "execution_count": 5,
     "metadata": {},
     "output_type": "execute_result"
    }
   ],
   "source": [
    "TEST_TEXT = texts[100]\n",
    "TEST_TEXT"
   ]
  },
  {
   "cell_type": "markdown",
   "id": "77515878",
   "metadata": {},
   "source": [
    "<div class=\"alert alert-secondary\">\n",
    "\n",
    "Создайте и обучите собственный токенизатор на полученных данных. Размер словаря выберите небольшим: при обучении только на рассмотренных текстах — около 3к токенов. В рассматриваемых данных язык намного менее разнообразен, чем в совокупных данных, поэтому крупные токенизаторы от реальных LLM могут не подойти. \n",
    "При создании токенизатора можете ориентироваться на [материал huggingface.co](https://huggingface.co/learn/llm-course/ru/chapter6/8). Рекомендуем использовать BPE."
   ]
  },
  {
   "cell_type": "code",
   "execution_count": 6,
   "id": "ea73b56e",
   "metadata": {},
   "outputs": [
    {
     "data": {
      "text/plain": [
       "[('-', (0, 1)),\n",
       " ('ĠÐ¢ÑıÐ¶ÐºÐ¾Ðµ', (1, 8)),\n",
       " (',', (8, 9)),\n",
       " ('ĠÑĤÑıÐ¶ÐºÐ¾Ðµ', (9, 16)),\n",
       " ('ĠÐ²ÑĢÐµÐ¼Ñı', (16, 22)),\n",
       " (',', (22, 23)),\n",
       " ('ĠÑĩÑĤÐ¾', (23, 27)),\n",
       " ('ĠÐ³Ð¾Ð²Ð¾ÑĢÐ¸ÑĤÑĮ', (27, 36)),\n",
       " (',', (36, 37)),\n",
       " ('Ġ-', (37, 39)),\n",
       " ('ĠÐ¿ÑĢÐ¾Ð±Ð¾ÑĢÐ¼Ð¾ÑĤÐ°Ð»', (39, 51)),\n",
       " ('ĠÐ¾Ð½', (51, 54)),\n",
       " (',', (54, 55)),\n",
       " ('Ġ-', (55, 57)),\n",
       " ('ĠÐ½Ð¾', (57, 60)),\n",
       " ('ĠÑĥÐ½ÑĭÐ²Ð°ÑĤÑĮ', (60, 68)),\n",
       " ('-', (68, 69)),\n",
       " ('ÑĤÐ¾', (69, 71))]"
      ]
     },
     "execution_count": 6,
     "metadata": {},
     "output_type": "execute_result"
    }
   ],
   "source": [
    "tokenizer = Tokenizer(BPE())\n",
    "tokenizer.pre_tokenizer = pre_tokenizers.ByteLevel(add_prefix_space=False)\n",
    "tokenizer.pre_tokenizer.pre_tokenize_str(TEST_TEXT)"
   ]
  },
  {
   "cell_type": "code",
   "execution_count": 7,
   "id": "a2ed49b6",
   "metadata": {},
   "outputs": [],
   "source": [
    "def get_training_corpus(texts):\n",
    "    for i in range(0, len(texts), 1000):\n",
    "        batch = [texts[j] for j in range(i, min(i + 1000, len(texts)))]\n",
    "        yield batch"
   ]
  },
  {
   "cell_type": "code",
   "execution_count": 8,
   "id": "2e324527",
   "metadata": {},
   "outputs": [
    {
     "name": "stdout",
     "output_type": "stream",
     "text": [
      "CPU times: total: 2min 6s\n",
      "Wall time: 25.2 s\n"
     ]
    }
   ],
   "source": [
    "%%time\n",
    "trainer = trainers.BpeTrainer(vocab_size=DICT_SIZE, special_tokens=[SPECIAL_TOKEN])\n",
    "tokenizer.train_from_iterator(get_training_corpus(texts), trainer=trainer)"
   ]
  },
  {
   "cell_type": "markdown",
   "id": "9c681be0",
   "metadata": {},
   "source": [
    "Посмотрим на токенизатор:"
   ]
  },
  {
   "cell_type": "code",
   "execution_count": 9,
   "id": "253297be",
   "metadata": {},
   "outputs": [
    {
     "name": "stdout",
     "output_type": "stream",
     "text": [
      "Vocab size: 3000\n",
      "Sample vocab: ['ĠÐŁÑĢ', 'ĠÐ¿Ð¾Ð¹', 'ĠÐ¾Ð±ÐµÑī', 'ĠÐ¼ÐµÑĤ', 'ĠÑĢÐµÐ²', 'ĠÑĤÐ°Ð¼', 'ĠÑĤÐ¾Ð»ÑĮÐºÐ¾', 'ĠÐ¸Ð½', '!\"', 'ĠÐ¾Ð±ÑĢÐ°Ñī', 'Ð½Ð¸ÐµÐ¼', 'ÐºÐ°Ð¼', 'ĠÑĩÐ°ÑģÑĤÐ¾', 'ÐµÐ½Ð½ÑĥÑİ', 'Ð°Ð¿', 'ĠÐ¾Ð±Ðµ', 'ĠÑĥÐ²Ð¸Ð´ÐµÐ»', 'Ð°Ð²ÑĪÐ¸Ð¹', 'ĠÐ³Ð¾Ð²Ð¾ÑĢÐ¸ÑĤÑĮ', 'ĠÑĥÑģÐ¿Ð¾ÐºÐ¾', 'ĠÐ³Ð¾Ð²Ð¾ÑĢÑİ', 'ĠÐ¾ÑĤÐºÑĢÑĭ', 'Ð½ÐµÑģ', 'ĠÑĢÑĥÐºÐ°Ñħ', '0', 'ĠÐ¿Ð¾Ð±', 'ÑĨÐ¸Ð¾Ð½', 'ÑĥÐ¹ÑĤÐµ', 'Ð¸Ñı', 'Ñĩ']\n"
     ]
    }
   ],
   "source": [
    "print(\"Vocab size:\", tokenizer.get_vocab_size())\n",
    "print(\"Sample vocab:\", list(tokenizer.get_vocab().keys())[:30])\n"
   ]
  },
  {
   "cell_type": "markdown",
   "id": "64d220b7",
   "metadata": {},
   "source": [
    "Посмотрим на токенизированный текст:"
   ]
  },
  {
   "cell_type": "code",
   "execution_count": 10,
   "id": "f59218a3",
   "metadata": {},
   "outputs": [
    {
     "name": "stdout",
     "output_type": "stream",
     "text": [
      "- Тяжкое, тяжкое время, что говорить, - пробормотал он, - но унывать-то\n",
      "['-', 'ĠÐ¢', 'ÑıÐ¶', 'ÐºÐ¾Ðµ', ',', 'ĠÑĤÑıÐ¶', 'ÐºÐ¾Ðµ', 'ĠÐ²ÑĢÐµÐ¼Ñı', ',', 'ĠÑĩÑĤÐ¾', 'ĠÐ³Ð¾Ð²Ð¾ÑĢÐ¸ÑĤÑĮ', ',', 'Ġ-', 'ĠÐ¿ÑĢÐ¾Ð±', 'Ð¾ÑĢ', 'Ð¼Ð¾ÑĤÐ°Ð»', 'ĠÐ¾Ð½', ',', 'Ġ-', 'ĠÐ½Ð¾', 'ĠÑĥ', 'Ð½Ñĭ', 'Ð²', 'Ð°ÑĤÑĮ', '-', 'ÑĤÐ¾']\n"
     ]
    }
   ],
   "source": [
    "print (TEST_TEXT)\n",
    "encoding = tokenizer.encode(TEST_TEXT)\n",
    "print (encoding.tokens)"
   ]
  },
  {
   "cell_type": "markdown",
   "id": "593828f1",
   "metadata": {},
   "source": [
    "Посмотрим на 3й токен:"
   ]
  },
  {
   "cell_type": "code",
   "execution_count": 11,
   "id": "fa0e6e36",
   "metadata": {},
   "outputs": [
    {
     "data": {
      "text/plain": [
       "' тяж'"
      ]
     },
     "execution_count": 11,
     "metadata": {},
     "output_type": "execute_result"
    }
   ],
   "source": [
    "start, end = encoding.offsets[5]\n",
    "TEST_TEXT[start:end]"
   ]
  },
  {
   "cell_type": "code",
   "execution_count": 12,
   "id": "91b23291",
   "metadata": {},
   "outputs": [],
   "source": [
    "wrapped_tokenizer = PreTrainedTokenizerFast(\n",
    "    tokenizer_object=tokenizer,\n",
    "    bos_token=SPECIAL_TOKEN,\n",
    "    eos_token=SPECIAL_TOKEN,\n",
    "    unk_token=\"<unk>\",\n",
    "    pad_token=SPECIAL_TOKEN # Зададим пэддинг-токен как токен конца\n",
    "    ) "
   ]
  },
  {
   "cell_type": "markdown",
   "id": "4f882f8c",
   "metadata": {},
   "source": [
    "<div class=\"alert alert-secondary\">\n",
    "\n",
    "Токенизируйте данные и подготовьте их к претрейну с длиной контекста 512 токенов в виде экземпляра класса transformers.Dataset."
   ]
  },
  {
   "cell_type": "code",
   "execution_count": 13,
   "id": "7535ed24",
   "metadata": {},
   "outputs": [],
   "source": [
    "texts = [text + SPECIAL_TOKEN for text in texts]"
   ]
  },
  {
   "cell_type": "code",
   "execution_count": 14,
   "id": "31d8c208",
   "metadata": {},
   "outputs": [
    {
     "data": {
      "text/plain": [
       "['Посвящается Любови Евгеньевне Белозерской<|endoftext|>',\n",
       " 'Пошел мелкий снег и вдруг  повалил  хлопьями.<|endoftext|>',\n",
       " 'Ветер завыл; сделалась метель. В одно  мгновение<|endoftext|>',\n",
       " 'темное  небо  смешалось  с  снежным  морем.  Все<|endoftext|>',\n",
       " 'исчезло.<|endoftext|>']"
      ]
     },
     "execution_count": 14,
     "metadata": {},
     "output_type": "execute_result"
    }
   ],
   "source": [
    "texts[:5]"
   ]
  },
  {
   "cell_type": "code",
   "execution_count": null,
   "id": "53d43893",
   "metadata": {},
   "outputs": [
    {
     "name": "stdout",
     "output_type": "stream",
     "text": [
      "CPU times: total: 15.6 ms\n",
      "Wall time: 52 ms\n"
     ]
    },
    {
     "data": {
      "text/plain": [
       "Dataset({\n",
       "    features: ['input_ids', 'attention_mask'],\n",
       "    num_rows: 4\n",
       "})"
      ]
     },
     "execution_count": 18,
     "metadata": {},
     "output_type": "execute_result"
    }
   ],
   "source": [
    "%%time\n",
    "encodings = wrapped_tokenizer(\n",
    "    texts,\n",
    "    add_special_tokens=False,\n",
    "    truncation=False,\n",
    ")\n",
    "all_ids = []\n",
    "for ids in encodings[\"input_ids\"]:\n",
    "    all_ids.extend(ids)\n",
    "\n",
    "chunks = [\n",
    "    all_ids[i:i + CONTEXT_LENGTH]\n",
    "    for i in range(0, len(all_ids), CONTEXT_LENGTH)\n",
    "    if len(all_ids[i:i + CONTEXT_LENGTH]) == CONTEXT_LENGTH\n",
    "]\n",
    "\n",
    "attention_masks = [[1] * CONTEXT_LENGTH for _ in chunks]\n",
    "\n",
    "dataset = Dataset.from_dict({\n",
    "    \"input_ids\": chunks,\n",
    "    \"attention_mask\": attention_masks,\n",
    "})\n",
    "\n",
    "dataset"
   ]
  },
  {
   "cell_type": "markdown",
   "id": "7e7aacea",
   "metadata": {},
   "source": [
    "<div class=\"alert alert-secondary\">\n",
    "\n",
    "Инициализируйте модель ~150M параметров c произвольной decoder-only архитектурой трансформера. Например, можно рассмотреть LlamaConfig с параметрами:\n",
    "- hidden_size=1024, intermediate_size=1536, num_hidden_layers=16, num_attention_heads=16, num_key_value_heads=8.\n",
    "\n",
    "Подготовьте коллбэки для валидации качества на промптах. Реализуйте обучение с помощью Trainer. Обратите внимание на параметры регуляризации weight_decay. Используйте подходящий batch_size — в диапазоне 64—128."
   ]
  },
  {
   "cell_type": "code",
   "execution_count": 19,
   "id": "9edad79f",
   "metadata": {},
   "outputs": [],
   "source": [
    "test_prompts = [\n",
    "    \"Все мысли, которые имеют огромные последствия\",\n",
    "    \"Сила войска зависит от его духа\",\n",
    "    \"Мысль о том, что он принес страдания\",\n",
    "    \"Человек сознает себя свободным\",\n",
    "    \"Что бы ни случилось, я всегда буду\",\n",
    "    \"Любовь мешает смерти\",\n",
    "    \"Нет, жизнь не кончена\",\n",
    "    \"Всякая мысль, даже самая простая\",\n",
    "    \"Война не любезность, а самое гадкое дело\",\n",
    "    \"Чтобы жить честно\"\n",
    "]"
   ]
  },
  {
   "cell_type": "code",
   "execution_count": 20,
   "id": "7ea7680b",
   "metadata": {},
   "outputs": [
    {
     "name": "stdout",
     "output_type": "stream",
     "text": [
      "Модель инициализирована: 132.0M параметров\n"
     ]
    },
    {
     "name": "stderr",
     "output_type": "stream",
     "text": [
      "Map: 100%|██████████| 4/4 [00:00<00:00, 102.56 examples/s]\n",
      "  0%|          | 0/1 [00:00<?, ?it/s]C:\\Users\\Papa\\AppData\\Roaming\\Python\\Python311\\site-packages\\torch\\utils\\data\\dataloader.py:665: UserWarning: 'pin_memory' argument is set as true but no accelerator is found, then device pinned memory won't be used.\n",
      "  warnings.warn(warn_msg)\n",
      "100%|██████████| 1/1 [00:10<00:00, 10.76s/it]"
     ]
    },
    {
     "name": "stdout",
     "output_type": "stream",
     "text": [
      "{'train_runtime': 10.769, 'train_samples_per_second': 0.279, 'train_steps_per_second': 0.093, 'train_loss': 8.186291694641113, 'epoch': 1.0}\n"
     ]
    },
    {
     "name": "stderr",
     "output_type": "stream",
     "text": [
      "\n"
     ]
    },
    {
     "data": {
      "text/plain": [
       "TrainOutput(global_step=1, training_loss=8.186291694641113, metrics={'train_runtime': 10.769, 'train_samples_per_second': 0.279, 'train_steps_per_second': 0.093, 'train_loss': 8.186291694641113, 'epoch': 1.0})"
      ]
     },
     "execution_count": 20,
     "metadata": {},
     "output_type": "execute_result"
    }
   ],
   "source": [
    "config = LlamaConfig(\n",
    "    vocab_size=wrapped_tokenizer.vocab_size,\n",
    "    hidden_size=1024,\n",
    "    intermediate_size=1536,\n",
    "    num_hidden_layers=16,\n",
    "    num_attention_heads=16,\n",
    "    num_key_value_heads=8,\n",
    "    max_position_embeddings=512,\n",
    "    bos_token_id=wrapped_tokenizer.bos_token_id,\n",
    "    eos_token_id=wrapped_tokenizer.eos_token_id,\n",
    ")\n",
    "\n",
    "model = LlamaForCausalLM(config)\n",
    "print(f\"Модель инициализирована: {sum(p.numel() for p in model.parameters())/1e6:.1f}M параметров\")\n",
    "\n",
    "dataset = dataset.map(lambda x: {\"labels\": x[\"input_ids\"]})\n",
    "\n",
    "dataset = dataset.train_test_split(test_size=0.05, seed=42)\n",
    "train_dataset = dataset[\"train\"]\n",
    "val_dataset = dataset[\"test\"]\n",
    "\n",
    "collator = DataCollatorForLanguageModeling(\n",
    "    tokenizer=wrapped_tokenizer,\n",
    "    mlm=False\n",
    ")\n",
    "\n",
    "class PromptEvalCallback(TrainerCallback):\n",
    "    def __init__(self, tokenizer, prompts):\n",
    "        self.tokenizer = tokenizer\n",
    "        self.prompts = prompts\n",
    "\n",
    "    def on_evaluate(self, args, state, control, **kwargs):\n",
    "        model = kwargs[\"model\"]\n",
    "        model.eval()\n",
    "        print(\"\\n=== Валидация на промптах ===\")\n",
    "        for prompt in self.prompts:\n",
    "            inputs = self.tokenizer(prompt, return_tensors=\"pt\").to(model.device)\n",
    "            with torch.no_grad():\n",
    "                outputs = model.generate(**inputs, max_new_tokens=30)\n",
    "            text = self.tokenizer.decode(outputs[0], skip_special_tokens=True)\n",
    "            print(f\"\\n[Prompt] {prompt}\\n[Output] {text}\")\n",
    "\n",
    "callback = PromptEvalCallback(wrapped_tokenizer, test_prompts)\n",
    "\n",
    "training_args = TrainingArguments(\n",
    "    output_dir=\"./llama-small-pretrain\",\n",
    "    per_device_train_batch_size=64,\n",
    "    gradient_accumulation_steps=1,\n",
    "    num_train_epochs=1,\n",
    "    learning_rate=2e-4,\n",
    "    weight_decay=0.01,\n",
    "    logging_steps=50,\n",
    "    #evaluation_strategy=\"steps\",\n",
    "    do_eval=True,\n",
    "    eval_steps=200,\n",
    "    save_steps=200,\n",
    "    save_total_limit=2,\n",
    "    report_to=\"none\",\n",
    "    bf16=torch.cuda.is_available()\n",
    ")\n",
    "\n",
    "trainer = Trainer(\n",
    "    model=model,\n",
    "    args=training_args,\n",
    "    data_collator=collator,\n",
    "    train_dataset=train_dataset,\n",
    "    eval_dataset=val_dataset,\n",
    "    tokenizer=wrapped_tokenizer,\n",
    "    callbacks=[callback],\n",
    ")\n",
    "\n",
    "trainer.train()"
   ]
  },
  {
   "cell_type": "markdown",
   "id": "e6bb1430",
   "metadata": {},
   "source": [
    "Сгенерируйте ответы на запросы test_prompts. Чтобы ревьюер мог оценить результаты, оставьте генерацию в ноутбуке."
   ]
  },
  {
   "cell_type": "code",
   "execution_count": 23,
   "id": "3f453b6b",
   "metadata": {},
   "outputs": [
    {
     "name": "stdout",
     "output_type": "stream",
     "text": [
      "Prompt: Все мысли, которые имеют огромные последствия\n",
      "Ответ модели: ÐĴ ÑģÐµ ĠÐ¼ÑĭÑģÐ»Ð¸, ĠÐºÐ¾ÑĤÐ¾ÑĢÑĭÐµ ĠÐ¸Ð¼ Ðµ ÑİÑĤ ĠÐ¾Ð³ÑĢÐ¾Ð¼ Ð½ÑĭÐµ ĠÐ¿Ð¾ÑģÐ»ÐµÐ´ ÑģÑĤÐ²Ð¸Ñı ÐµÑĢÐ½Ð° ÐµÑĢÐ¿ ÐµÐ¿ÐµÑĢÑĮ ĠÑģÐ²Ð¾ÐµÐ¼ ÑģÑĤÐ²Ð¾ ĠÑģÐ¾ Ð¼Ð¾Ð¶ ĠÑĢÐ°ÑģÐ¿ ĠÐ¾Ð±ÑĢÐ°Ð· ĠÐ´ÐµÐ»Ð¾ ÐµÐ½Ð½ÑĭÑħ Ð°Ñı Ð¼Ð¾Ð¶ ĠÐ±ÑĭÑģÑĤÑĢÐ¾ Ð¾Ð½ÑĮ ĠÑģÐ¾ ĠÑģÐºÐ¾Ð»ÑĮÐºÐ¾ Ġ Ġ ĠÐ¾Ð³Ð»Ñı ÐµÐ´ Ð»ÐµÐ½Ð°?\" ĠÑģÐµÐ³Ð¾Ð´Ð½Ñı ÑģÑĤÐ¸ ÐµÐ¿ÐµÑĢÑĮ?\" ĠÐ½Ð°ÐºÐ»Ð¾Ð½ ÑĢÐ¾Ð½ ÐºÐ°Ñı ĠÑģÐºÐ¾Ð»ÑĮÐºÐ¾ Ð¾Ð»Ðº ÐµÐ¿ÐµÑĢÑĮ ÑĥÑİÑī Ð¾Ð»Ðº ĠÑģÐºÐ¾Ð»ÑĮÐºÐ¾ ÑĢÑĭÑĤ ÑıÐ»Ð°ÑģÑĮ ĠÑģÐ¾ ÐµÐ´ Ð¾Ð»Ðº ĠÑĩÑĢÐµÐ· Ð½Ð¸ Ð¾Ð´Ð° ÐµÑģÑĮ ÑıÐ»Ð°ÑģÑĮ Ġ ĠÐ¾Ð±ÑĢÐ°Ð· ĠÑĪÑĥÑĤ ÐµÐ¿ÐµÑĢÑĮ\n",
      "Prompt: Сила войска зависит от его духа\n",
      "Ответ модели: Ð¡ Ð¸Ð»Ð° ĠÐ²Ð¾Ð¹ ÑģÐºÐ° ĠÐ·Ð°Ð² Ð¸Ñģ Ð¸ÑĤ ĠÐ¾ÑĤ ĠÐµÐ³Ð¾ ĠÐ´ÑĥÑħ Ð° ĠÐ³ÑĢÐ¾Ð¼ÐºÐ¾ ÑĤÑĭ Ð»Ð¾Ð² ÐµÐµ ÑİÑĤ ĠÐ¼ÐµÑĢÑĤÐ² ÐµÐµ ĠÐ±, Ð¾Ð¹ ÑĢÐ°Ð» ĠÑģÐ²Ð¾Ð¸Ñħ, Ġ ĠÐ²ÐµÐ»Ð¸ ĠÑģÑĤÑĭÐ´ Ð¾Ð½Ðµ ĠÐļÑĤÐ¾ ĠÐ¾ÑĤÐº ĠÐ½Ð°Ð± ĠÑĤÐ¸ ĠÐ²ÑĤÐ¾ÑĢ Ð½Ðµ Ð¾Ð¹ Ð¾ÑģÐºÐ² ĠÑģÐ»Ð¾Ð²Ð° ĠÑĤÐ¸ ĠÐ²ÑģÐµÑħ Ð»Ñı ĠÐļÑĤÐ¾ ĠÑģÐ¸Ð´ ĠÐ¡ÑĤÐ°ÑĢ ĠÐ´Ð¾Ð¶Ð´ ĠÐºÐ¾Ð¼Ð°Ð½Ð´ ĠÐ¾ÑĤÐº ĠÑģÐ»Ð¸ÑĪÐºÐ¾Ð¼ ĠÐ¾ÑĤÐº Ġ ĠÑģÐ»Ð¾Ð²Ð° ÐµÑĪÑĮ ÐµÑĪÑĮ ) ) ÐµÑĪÑĮ Ġ ĠÑģÐ¸Ð´ ÐµÑĪÑĮ ÑĮÑĤÐµ Ð½Ðµ ÐµÑģÑĤÐ½Ð¾\n",
      "Prompt: Мысль о том, что он принес страдания\n",
      "Ответ модели: Ðľ ÑĭÑģÐ» ÑĮ ĠÐ¾ ĠÑĤÐ¾Ð¼, ĠÑĩÑĤÐ¾ ĠÐ¾Ð½ ĠÐ¿ÑĢÐ¸Ð½ÐµÑģ ĠÑģÑĤÑĢÐ°Ð´ Ð°Ð½Ð¸Ñı Ð¼ÑĥÑī ÑĢÐ°Ð²Ð»Ñı Ñħ ĠÐ²ÐµÐ»Ð¸ ĠÐ¾Ð±Ð» ĠÐ¸Ð¼ÐµÐ» ĠÑģÑĭ ÐµÐµ Ð¸Ñģ Ð¸Ñģ ĠÐ²Ð¾Ð·Ð´ÑĥÑħ Ð·Ð´ ĠÐĲÐ» Ð·Ð´ ĠÐ´ÐµÐ»Ðµ ĠÐ´ÐµÐ½ÑĮÐ³Ð¸ ĠÑĢÐ°Ð±Ð¾ÑĤ ÑĢÐ°Ð³ Ð»Ð¾Ð¼ ĠÐ±Ð¾Ð³Ð° ĠÐ´ÐµÐ½ÑĮÐ³Ð¸ ÑĨÐ¸Ð¸ ĠÐ¾Ð±Ð» ĠÐºÐ°ÐºÐ¾Ðµ Ð»Ð¾Ð¼ ĠÐºÐ¾Ð¼Ð½Ð°ÑĤÑĭ ÑĮÑı ĠÑģÐ»Ð°Ð² ĠÐ¼Ð¾Ð¶ ĠÑģÐ»Ð°Ð² ( ĠÐ±Ð¾Ð»ÐµÐµ ĠÐ²ÑģÑĤÑĢ!. ÐĶ Ð´ÐµÐ¼ ĠÐ·Ð°Ð³Ð¾Ð²Ð¾ÑĢÐ¸Ð» ĠÑģÑĥÑīÐµ Ð¡ ĠÐ¿ÑĢÐ¾Ð± Ð¾Ð»ÑĮÐ½Ð¾ ĠÑĢÐ°Ð±Ð¾ÑĤ ÐµÑĢÐ±ÑĥÑĢÐ³ Ð»Ð¾Ð¼ ĠÐ¾Ð±Ðµ ĠÑįÑĤÐ¾Ð³Ð¾ ĠÑĩÑĢÐµÐ· ÐµÐµ Ð´ÐµÐ¼ Ð»Ð¾Ð¼\n",
      "Prompt: Человек сознает себя свободным\n",
      "Ответ модели: Ð§ ÐµÐ»Ð¾Ð² ÐµÐº ĠÑģÐ¾Ð· Ð½Ð° ÐµÑĤ ĠÑģÐµÐ±Ñı ĠÑģÐ²Ð¾Ð±Ð¾Ð´ Ð½ÑĭÐ¼ ĠÐ¿Ð¾ÑĤÐµÑĢ Ð½ÐµÐ· ÑĢÐ¾Ð´ ĠÐ»Ð¾ÑĪÐ°Ð´ÐµÐ¹ ĠÐ¼Ð¸Ð³ ĠÐ¼Ð¸Ð³ ĠÐ²ÑĭÐ¿ Ð½ÐµÐ· ÐºÐ¸Ð¼Ð¸ ĠÐ¿ÑĢÐ¾ÑģÑĤÐ¾ ĠÐ²Ð´ÑĢÑĥÐ³ ĠÑįÑĤÐ¸Ð¼ ÑĢÐ¾Ðº ĠÐ¿ÑĢ ĠÐ´ÑĢÑĥÐ³Ð¾Ð³Ð¾ ĠÐ´ÑĢÑĥÐ³Ð¾Ð³Ð¾ ĠÑįÑĤÐ¸Ð¼ ĠÐ²ÑĭÐ¿ Ð¾ ĠÑįÑĤÑĥ « ĠÐ²ÑĭÐ¿ ĠÐ¿Ð»ÐµÑĩ ĠÐ½Ð°Ð¿ ĠÑįÑĤÐ¸Ð¼ ĠÐ´ÑĢÑĥÐ³Ð¾Ð³Ð¾ Ð¾ÑģÑĤÑĮ Ð¾ÑģÑĤÑĮ ĠÐ´ÑĢÑĥÐ³Ð¾Ð³Ð¾ Ð¾ Ð½ÑĥÐ² Ð½ÑĭÑħ ÐµÐ¶Ð´ ĠÐ´ÑĢÑĥÐ³Ð¾Ð³Ð¾ Ð¾ÑģÑĤÑĮ Ð½ÐµÐ¼Ñĥ ĠÐ¼ÐµÑĢÑĤÐ² ĠÐŀÐ½ ĠÑįÑĤÐ¸Ð¼ ĠÑģÑĤÑĢÐ° Ð°ÑİÑĤ Ð»ÑİÐ´ ĠÐ²ÑĭÑĪÐµÐ» ĠÐ²ÑĭÐ¿ ĠÐ²Ð¾ÑģÐºÐ»Ð¸ÐºÐ½ÑĥÐ» ĠÐ´ÑĢÑĥÐ³Ð¾Ð³Ð¾ ĠÐ½Ð°Ð¿ Ð½ÐµÐ· ĠÐ²ÐµÑĢ Ð¸ÑĤÐ°\n",
      "Prompt: Что бы ни случилось, я всегда буду\n",
      "Ответ модели: Ð§ÑĤÐ¾ ĠÐ±Ñĭ ĠÐ½Ð¸ ĠÑģÐ»ÑĥÑĩ Ð¸Ð»Ð¾ÑģÑĮ, ĠÑı ĠÐ²ÑģÐµÐ³Ð´Ð° ĠÐ±ÑĥÐ´Ñĥ Ð¸Ð»ÑĮ ĠÐ´ÐµÑģÑı ĠÐ¸ÑģÐ¿ÑĭÑĤ Ð¸Ð½Ñı ÑĥÑģÑĤ ĠÐ¸Ð·Ð± Ð¸Ð½Ñı ÑĢ Ġ Ð¸ÑĤ ĠÐĿÐ°Ð´Ð¾ ÑĢ Ġ ĠÐĿÐ°Ð´Ð¾ Ð³ Ġ ÐµÐ½Ð½ÑĭÐ¼ ĠÐ¸ÑģÑĤ ĠÐĽÐ¾Ð³ ĠÐ¾Ñģ ĠÐĴÐ°Ð» Ð¾ÑĪÐ»Ð° Ð´ÐµÑģÑĮ Ġ ĠÐ±ÐµÑģÐ¿Ð¾ÐºÐ¾Ð¹ ĠÑĥÐ¼ÐµÑĢ Ġ ĠÐ³ÑĢÐ¾Ð¼ÐºÐ¾ Ġ Ġ ĠÐ¸ÑģÐ¿ÑĭÑĤ Ġ Ġ Ġ Ð¾Ð¶Ðµ Ð°Ð½Ð° Ġ ĠÐºÑĢÐ°Ñģ Ġ Ġ Ġ ĠÐĿÐ°Ð´Ð¾ Ġ Ġ ĠÐ¼Ð¾Ð»Ð¾Ð´Ð¾Ð¹ Ġ Ġ Ġ Ġ ÑĢ\n",
      "Prompt: Любовь мешает смерти\n",
      "Ответ модели: ÐĽ ÑİÐ± Ð¾Ð²ÑĮ ĠÐ¼ÐµÑĪ Ð°ÐµÑĤ ĠÑģÐ¼ÐµÑĢÑĤÐ¸ Ð¾Ð²Ð°ÑĢ ÐºÑĥ ĠÐ¿Ð¾Ð» ĠÑģÑĬ ĠÐ½ÐµÐ¼ Ð¸ÑĨÑĭ ÐºÑĥ Ð¾Ð»ÐµÐ² ĠÐºÐ²Ð°ÑĢÑĤÐ¸ Ð»ÑİÐ´ ĠÑĤÐ¾Ð± ł ÐµÐ»ÐµÐ¹ ĠÐ¿Ð»Ð°Ðº Ð¾Ð²ÑĭÐ¼ ĠÐ½ÐµÐ²Ð¾Ð· ł ĠÐ½Ð¾ Ð¸ÑĨÑĭ ĠÑĢÐ°Ð´Ð¾ÑģÑĤ ĠÐ¾Ð±ÑĬ ĠÑģÐµÐ± ĠÐ½ÐµÐ¿Ð¾Ð´Ð²Ð¸Ð¶ ĠÐ½ÐµÐ¿Ð¾Ð´Ð²Ð¸Ð¶ Ð¸ÑĨÑĭ ĠÐ¿ÑĢÐ¾ÑģÑĤÐ¾ ĠÐ¿Ð¾Ð» ĠÐ´Ð¾Ð±ÑĢ Ð¸Ð½ÑĥÑĤ Ð¾Ð´Ð° ĠÐ¶Ð¸Ð² ĠÑģÐµÐ± Ð¸Ð²ÑĪÐ¸Ð¹ ĠÐ° ł ł ĠÑĤÐ¾ ĠÑĤÐ¾Ð»Ð¿ ĠÐ½ÐµÐ²Ð¾Ð· ĠÐ±ÑĢÐ¾Ð² Ð¸Ð½ÑĥÑĤ Ð¾Ð¶Ð´ Ð¸Ð²Ð°Ñı ĠÑĤÐµÐ± ÑĢÐ°Ð½ Ð°Ð· ł ÐµÑĢÐ¿ ĠÑĩÐµÑĢÑĤ ĠÑģÐ¾Ñģ\n",
      "Prompt: Нет, жизнь не кончена\n",
      "Ответ модели: ÐĿ ÐµÑĤ, ĠÐ¶Ð¸Ð·Ð½ÑĮ ĠÐ½Ðµ ĠÐºÐ¾Ð½Ñĩ ÐµÐ½Ð° ĠÐ¿ÑĢÐµÐ² ĠÐ²Ð¾Ð·Ð¼Ð¾Ð¶ ĠÑĤÐ¸ Ð°Ñĩ ĠÐ²Ð¾Ð·Ð¼Ð¾Ð¶ ĠÑħÐ»Ð¾Ð¿ ÑĢÐ°Ð¼ ĠÐ´Ð¾Ð¶Ð´ ĠÑģÐ¿ÑĢÐ¾ÑģÐ¸Ð»Ð° ĠÐ·Ð½Ð°ÐµÑĤÐµ ĠÐ¼Ð¾Ðµ ĠÐºÑĢÐ¾Ð² ĠÐ¾ÑģÐ¾Ð±ÐµÐ½Ð½Ð¾ Ð°Ñĩ ĠÐ³Ð¾Ð²Ð¾ÑĢÐ¸Ð»Ð¸ Ð°Ñĩ Ġ ĠÐĺ ĠÐ¾ÑģÐ¾Ð±ÐµÐ½Ð½Ð¾ ĠÐĺ ÐºÐ¾Ðµ ÑĥÐºÐ¸ ĠÐ´Ð¾Ð¶Ð´ ĠÑħÑĥÑĤÐ¾ÑĢ ÑıÐ» ĠÑģÐ¿ÑĢÐ¾ÑģÐ¸Ð»Ð° ĠÐ³Ð¾Ð»Ð¾Ð²Ð¾Ð¹ ÑģÐ»Ð¾Ð² ĠÐ¿ÑĢÐ¸Ð¼ ĠÐ·Ð» ĠÑģÐ¿Ð¾ÐºÐ¾Ð¹ ĠÐ³Ð¾Ð²Ð¾ÑĢÐ¸Ð»Ð¸ ÑĤÐ¾ÑĢÐ¾Ð½ ĠÐ¸Ð»Ð¸ ÑĤÐ¾ÑĢÐ¾Ð½ ĠÐ·Ð» ĠÐ¿Ð»ÐµÑĩ ĠÐ±ÐµÑģÐ¿Ð¾ÐºÐ¾Ð¹ ĠÑħÐ»Ð¾Ð¿ ÑĢÑĥÐ´ ĠÑĤÑĭÑģÑı ĠÐ·Ð½Ð°ÐµÑĤÐµ ĠÐ´Ð²ÑĥÑħ ĠÑģÐ¿ÑĢÐ¾ÑģÐ¸Ð»Ð° ĠÐ·Ð½Ð°ÐµÑĤÐµ Ġ ĠÑĥÑģÑĤ ÑĢÐ°Ð¼ ĠÐ·Ð½Ð°ÐµÑĤÐµ ĠÑģÐ¿ÑĢÐ¾ÑģÐ¸Ð»Ð°\n",
      "Prompt: Всякая мысль, даже самая простая\n",
      "Ответ модели: ÐĴ ÑģÑı ÐºÐ°Ñı ĠÐ¼ÑĭÑģÐ»ÑĮ, ĠÐ´Ð°Ð¶Ðµ ĠÑģÐ°Ð¼ Ð°Ñı ĠÐ¿ÑĢÐ¾ÑģÑĤ Ð°Ñı ĠÐ¾Ð±ÑĢÐ°Ð· ĠÑĤÐ¾Ð»ÑģÑĤ Ð½Ð¾ÑģÑĤÑĮ Ð°Ð¹ ÑĢÑĭÑĤ ÑĢÐµÐ¿ ĠÐ²ÐµÐ»Ð¸Ðº Ð¼Ð° ÐµÐ»ÑģÑı ĠÐ´Ð° Ð»Ð¾ ĠÐ²ÐµÑģÐµÐ» ĠÐ½Ð°ÑĩÐ°Ð»ÑĮ Ð°Ñı ĠÑĨ ĠÐ´Ð° Ð»Ð¾ÑģÑĮ ÑĢÐµÐ´ÐµÐ» ÐµÐ½Ñı Ð°Ð½Ð½Ð¾Ð¹ ĠÐłÐ°Ð· ĠÑįÑĤÐ¾Ð³Ð¾ Ð½ÐµÑĤ ÐµÐ»Ð¾ Ġ. ÑĤÐµÑĢ ĠÑĨ ĠÑĪÐµÐ¿ Ð¸ÑĩÐµÐ³Ð¾ Ñį ĠÐ±ÑĭÑĤÑĮ ÑĢÐ°Ð²Ð»Ñı ĠÐ¿ÑĢÐ¾Ð¼ ÐºÐ¾Ð² ÑĢÑĭÑĤ Ð°ÐµÑĤÑģÑı ĠÐ¼ÑĥÐ· ÑĤÐµÑĢ ÑĢÐ°Ð²Ð»Ñı ĠÐ¼ÑĥÐ· Ð°Ð½Ð½Ð¾Ð¹ ĠÐ¾Ð±ÑĢÐ°Ð· ĠÐ²ÐµÑģÐµÐ» ĠÐ²ÐµÐ»Ð¸Ðº ĠÐ²Ð¾Ð»Ð¾Ñģ ĠÑĪÐµÐ¿ ĠÐ²ÐµÐ»Ð¸Ðº ÑĢÑĭÑĤ ĠÐ³Ð¾ÑģÐ¿Ð¾Ð´Ð¸Ð½ ÑĢÐ¸Ð¹\n",
      "Prompt: Война не любезность, а самое гадкое дело\n",
      "Ответ модели: ÐĴ Ð¾Ð¹ Ð½Ð° ĠÐ½Ðµ ĠÐ»ÑİÐ± ÐµÐ· Ð½Ð¾ÑģÑĤÑĮ, ĠÐ° ĠÑģÐ°Ð¼Ð¾Ðµ ĠÐ³ Ð°Ð´ ÐºÐ¾Ðµ ĠÐ´ÐµÐ»Ð¾ ĠÑģÐ¾ Ð»Ð°Ð³ ĠÑģÐ¿ Ð¾ÐºÐ¾ Ð°Ð¹ÑĤÐµ ĠÐ²Ð·Ð³Ð»ÑıÐ½ÑĥÐ» ĠÑģÐ¾ Ð¾ÐºÐ¾ ĠÐ¡Ðº Ð°Ð¶Ðµ Ð¸Ð»Ð¾Ð² ĠÑģÐ¿ ÑģÑĤÐ²Ð¾ ĠÐ²Ð·Ð³Ð»ÑıÐ½ÑĥÐ» ĠÑģÐ¾ Ð¸Ð²Ð°Ð» ĠÑģÐ¾ Ð¼Ð° ĠÑģÐ»Ð°Ð± ĠÐ²Ð·Ð³Ð»ÑıÐ½ÑĥÐ» ĠÐ±Ð¾Ðº Ð°Ñı Ð¸Ð»Ð¾Ð² Ð°Ð¹ÑĤÐµ ĠÑģÐµÐ³Ð¾Ð´Ð½Ñı Ð°Ð¹ ĠÐ§ÐµÐ³Ð¾ ÑģÐºÐ¾Ð³Ð¾ ĠÑģÐ¾Ð±Ð¾Ð¹ Ð°Ñı ĠÐ²Ð·Ð³Ð»ÑıÐ½ÑĥÐ» Ð¾Ð·Ñı ĠÐ½ÐµÐ± Ð´Ð¾ÑĢÐ¾Ð² Ð½ÑĭÐ¹ ĠÐ½ÐµÐ¿ ĠÐ·Ð°Ð¶ ĠÑģÐµÐ³Ð¾Ð´Ð½Ñı ĠÐ²Ð·Ð³Ð»ÑıÐ½ÑĥÐ» ĠÐ¿ÐµÑģ ÐµÐ³ ĠÐĳ Ð°ÐµÑĪÑĮ ĠÑĢÐ°ÑģÐ¿ ĠÐĳ Ð¾ÑģÑĤ Ð¾Ð» ÑĥÐ»Ð° Ð»Ð°Ñģ Ð°Ð¹\n",
      "Prompt: Чтобы жить честно\n",
      "Ответ модели: Ð§ ÑĤÐ¾Ð± Ñĭ ĠÐ¶Ð¸ÑĤÑĮ ĠÑĩ ÐµÑģÑĤÐ½Ð¾ ÐĿÐ° ÐĿÐ° ÐµÐ¶ Ð´Ð² ÐµÐ¶ Ð½ÐµÐ· Ð¾Ð»ÑĮÐ½Ð¾ ). ĠÐ¿ÑĢÐ¸Ñĩ Ð¾Ð½Ñĥ ĠÐ±Ð» Ð½ÐµÐ· ĠÑĥÐ»ÑĭÐ± ÐµÑģÐ¿ ÑĥÑģÑĤ ĠÐ¾Ð¿ÑıÑĤÑĮ ĠÐ¡Ð» ĠÐ¨ Ð¾Ð½Ñĥ Ð°Ñī ĠÐ¶ÐµÐ½ÑīÐ¸Ð½Ð° Ð¾Ð³Ñĥ ĠÐ²Ð´ ĠÑģÐ°Ð¿ ĠÐ²Ð´ÑĢÑĥÐ³ Ð¸ÑĤÐ¸ ĠÐ¡Ð» ĠÐ²Ð¾ÑģÐºÐ»Ð¸ÐºÐ½ÑĥÐ» ĠÐ¨ ĠÐ¸Ð´ÑĤÐ¸ Ð¾Ð½Ñĥ ĠÐ¸Ð´ÐµÑĤ ĠÐ±Ð» ĠÐºÐ°Ð¼ ÐµÐ¶ ĠÐ¸Ð´ÑĤÐ¸ ĠÐ²Ð´ÑĢÑĥÐ³ Ð¾Ð³Ñĥ ÐºÐ¸Ð¼Ð¸ ĠÐķÐ³Ð¾ ĠÐºÐ°Ð¶Ð´ÑĭÐ¹ ĠÐ¨ ĠÐ¾ÑĩÐµÐ½ÑĮ « ĠÐ»Ð¾ÑĪÐ°Ð´ÐµÐ¹ ÐµÐ¶ ĠÐºÑĢÐ¾Ð¼Ðµ ĠÐŁÐµÑĤÑĢÐ¾Ð²Ð¸Ñĩ ÐµÑģÐ¿ Ð½Ð¾Ðµ\n"
     ]
    }
   ],
   "source": [
    "model.eval()\n",
    "model.to(\"cuda\" if torch.cuda.is_available() else \"cpu\")\n",
    "\n",
    "for prompt in test_prompts:\n",
    "    inputs = wrapped_tokenizer(prompt, return_tensors=\"pt\").to(model.device)\n",
    "    \n",
    "    # Удаляем token_type_ids если они есть\n",
    "    if 'token_type_ids' in inputs:\n",
    "        del inputs['token_type_ids']\n",
    "    \n",
    "    with torch.no_grad():\n",
    "        outputs = model.generate(\n",
    "            **inputs,\n",
    "            max_new_tokens=50,\n",
    "            temperature=0.8,\n",
    "            top_p=0.95,\n",
    "            do_sample=True,\n",
    "            pad_token_id=wrapped_tokenizer.pad_token_id,\n",
    "            eos_token_id=wrapped_tokenizer.eos_token_id,\n",
    "        )\n",
    "\n",
    "    text = wrapped_tokenizer.decode(outputs[0], skip_special_tokens=True)\n",
    "    print(f\"Prompt: {prompt}\\nОтвет модели: {text}\")"
   ]
  },
  {
   "cell_type": "markdown",
   "id": "4b1e4a5c",
   "metadata": {
    "vscode": {
     "languageId": "raw"
    }
   },
   "source": [
    "# Post-train SFT"
   ]
  },
  {
   "cell_type": "markdown",
   "id": "ca13cfa7",
   "metadata": {},
   "source": [
    "Для SFT-этапа можно использовать значительно меньше данных, поэтому возьмём модель крупнее. Рассмотрим базовую модель Qwen2.5-0.5B, с которой вы встречались в уроках. Обучите её генерировать ответы на инструктивные русскоязычные вопросы.\n",
    "\n",
    "Для оценки качества используйте такой набор вопросов:\n"
   ]
  },
  {
   "cell_type": "code",
   "execution_count": 21,
   "id": "0f56437d",
   "metadata": {},
   "outputs": [],
   "source": [
    "questions_rus = [\n",
    "    \"сколько планет в нашей солнечной системе?\",\n",
    "    \"расскажи стих\",\n",
    "    \"когда собирать крыжовник?\",\n",
    "    \"Как быстро выучить новый язык?\"\n",
    "  ]"
   ]
  },
  {
   "cell_type": "markdown",
   "id": "68263aa9",
   "metadata": {},
   "source": [
    "1. Подготовьте инструктивный датасет [d0rj/alpaca-cleaned-ru](https://huggingface.co/datasets/d0rj/alpaca-cleaned-ru) для обучения базовой модели. Представьте его в виде transformers.Dataset для диалоговых данных input=system, instruction=user, output=assistant.\n",
    "1. С помощью trl SFTTrainer дообучите модель.\n",
    "1. Посмотрите на адекватность генерации на финальных данных. \n",
    "\n",
    "Факты могут быть ошибочными, но язык ответа должен быть русским и должна сохраняться структура ответа."
   ]
  },
  {
   "cell_type": "markdown",
   "id": "478792e5",
   "metadata": {},
   "source": []
  }
 ],
 "metadata": {
  "kernelspec": {
   "display_name": "practicumNLP-py311",
   "language": "python",
   "name": "python3"
  },
  "language_info": {
   "codemirror_mode": {
    "name": "ipython",
    "version": 3
   },
   "file_extension": ".py",
   "mimetype": "text/x-python",
   "name": "python",
   "nbconvert_exporter": "python",
   "pygments_lexer": "ipython3",
   "version": "3.11.13"
  }
 },
 "nbformat": 4,
 "nbformat_minor": 5
}
