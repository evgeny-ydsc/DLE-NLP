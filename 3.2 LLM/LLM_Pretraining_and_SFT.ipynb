{
 "cells": [
  {
   "cell_type": "markdown",
   "id": "03ce0391",
   "metadata": {},
   "source": [
    "# Проект: pretraining LLM и posttraining LLM\n",
    "\n",
    "## Постановка задачи\n",
    "\n",
    "- Pretraining\n",
    "    - Претрейн — самый ресурсоёмкий этап обучения LLM. Чтобы полноценно обучить даже небольшую модель (менее 1B), понадобится более 10к GPU-часов на A100. Чтобы не тратить недели на обучение, но отработать ключевые приёмы, в проекте вы выполните упрощённую задачу. \n",
    "    - При полноценном претрейне модель учится обобщать знания из данных, на которых происходило обучение, чтобы потом извлекать эти знания по текстовым запросам уже после обучения. Упростим задачу — научим модель только структуре языка. \n",
    "    - Сосредоточимся на одном узком домене — **текстах произведений русской литературы** — и **обучим модель продолжать фразы из этого домена разумным текстом**. \n",
    "- Posttraining\n",
    "    - Для SFT-этапа можно использовать значительно меньше данных, поэтому возьмём модель крупнее. Рассмотрим базовую модель **Qwen2.5-0.5B**, с которой вы встречались в уроках. **Обучите её генерировать ответы на инструктивные русскоязычные вопросы**.\n",
    "\n",
    "## Критерии успеха\n",
    "- Pretraining - чтобы оценить качество, используйте промпты:\n",
    "    - \"Все мысли, которые имеют огромные последствия\",\n",
    "    - \"Сила войска зависит от его духа\",\n",
    "    - \"Мысль о том, что он принес страдания\",\n",
    "    - \"Человек сознает себя свободным\",\n",
    "    - \"Что бы ни случилось, я всегда буду\",\n",
    "    - \"Любовь мешает смерти\",\n",
    "    - \"Нет, жизнь не кончена\",\n",
    "    - \"Всякая мысль, даже самая простая\",\n",
    "    - \"Война не любезность, а самое гадкое дело\",\n",
    "    - \"Чтобы жить честно\"\n",
    "- Posttraining - качество данных должно быть сопоставимо с таким вариантом::\n",
    "    - Model Input 1:\n",
    "    сколько планет в нашей солнечной системе?\n",
    "        - Model Output 1:\n",
    "    Согласно последним исследованиям, Солнце имеет 8 планеты. Это дает планетам, которые соответствуют разным критериям, таким как диета, местоположение, плотность, климат и другие.\n",
    "    assistant\n",
    "    Общее размер нашей Солнечной системы составляет примерно 9,9 миллиарда километров, а в результате на каждом из них есть планета,\n",
    "    - Model Input 2:\n",
    "    расскажи стих\n",
    "        - Model Output 2:\n",
    "    Вот сладкий сладкий вкус, который ты получаешь на себе\n",
    "    Когда я говорю, что я люблю тебя\n",
    "    Мое сердце, у меня есть все, что я хочу, чтобы сделать\n",
    "    У меня есть все, что мне нужно, чтобы быть хорошим\n",
    "    Так давай пойдем в ресторан\n",
    "    assistant\n",
    "    Пока мы уседим, что мы можем\n",
    "    И в этот момент мы возвращаемся к при\n",
    "    - Model Input 3:\n",
    "    когда собирать крыжовник?\n",
    "        - Model Output 3:\n",
    "    Когда собираешь крыжовник, важно не беспокоиться о том, что другие могут его хвастаться. Вместо этого проверяйте свои способности и готовность. Вы можете изучить свой талант и стремления, прежде чем принимать решение, и признавать, что у вас есть свои сильные стороны, а также слабые места. Не снимайте крыжовник в обществе, и обязательно помните о\n",
    "    - Model Input 4:\n",
    "    Как быстро выучить новый язык?\n",
    "        - Model Output 4:\n",
    "    Скорость усвоения нового языка может сильно различаться в зависимости от нескольких факторов, таких как скорость, с которой вы пакетируете информацию через ее и ее способность учиться в различных условиях. Тем не менее, вот некоторые общие рекомендации: 1. Делайте сценарии. Обычно это может занять от 2 до 4 лет, чтобы понять основные концепции. Вы можете начать с"
   ]
  },
  {
   "cell_type": "markdown",
   "id": "4343bf23",
   "metadata": {},
   "source": [
    "<div class=\"alert alert-secondary\" style=\"background-color:#D9EEE1;color:black;\">\n",
    "\n",
    "## Описание данных\n",
    "\n",
    "- Pretrain\n",
    "    - https://github.com/JoannaBy/RussianNovels/tree/master/corpus \n",
    "- Posttrain\n",
    "    - русскоязычный инструктивный датасет [d0rj/alpaca-cleaned-ru](https://huggingface.co/datasets/d0rj/alpaca-cleaned-ru) в диалоговом формате"
   ]
  },
  {
   "cell_type": "markdown",
   "id": "e905d42a",
   "metadata": {},
   "source": [
    "## Инициализация"
   ]
  },
  {
   "cell_type": "markdown",
   "id": "fb4fd01d",
   "metadata": {},
   "source": [
    "### Импорт библиотек"
   ]
  },
  {
   "cell_type": "code",
   "execution_count": null,
   "id": "fc2623a4",
   "metadata": {},
   "outputs": [],
   "source": [
    "!pip install GitPython -q\n",
    "!pip install accelerate==0.26.0"
   ]
  },
  {
   "cell_type": "code",
   "execution_count": 19,
   "id": "cb23077c",
   "metadata": {},
   "outputs": [],
   "source": [
    "import os\n",
    "import re\n",
    "from git import Repo\n",
    "from pathlib import Path\n",
    "from datasets import Dataset, DatasetDict\n",
    "import pandas as pd\n",
    "from tokenizers import Tokenizer, pre_tokenizers, trainers\n",
    "from transformers import (\n",
    "    LlamaConfig,\n",
    "    LlamaForCausalLM,\n",
    "    PreTrainedTokenizerFast,\n",
    "    Trainer,\n",
    "    TrainingArguments,\n",
    "    TrainerCallback,\n",
    "    DataCollatorForLanguageModeling\n",
    ")\n",
    "from tokenizers.models import BPE\n",
    "from transformers import LlamaConfig, LlamaForCausalLM\n",
    "from transformers import Trainer, TrainingArguments\n",
    "import torch"
   ]
  },
  {
   "cell_type": "markdown",
   "id": "07b78884",
   "metadata": {},
   "source": [
    "### Установка главных параметров"
   ]
  },
  {
   "cell_type": "code",
   "execution_count": 20,
   "id": "c0e48b31",
   "metadata": {},
   "outputs": [],
   "source": [
    "PRETRAIN_DATASET =  \"pretrain-dataset\"\n",
    "DICT_SIZE = 3000\n",
    "SPECIAL_TOKEN = \"<|endoftext|>\"\n",
    "CONTEXT_LENGTH = 512"
   ]
  },
  {
   "cell_type": "markdown",
   "id": "6c3f98b8",
   "metadata": {},
   "source": [
    "# Pretraining"
   ]
  },
  {
   "cell_type": "markdown",
   "id": "5f277c58",
   "metadata": {},
   "source": [
    "<div class=\"alert alert-secondary\">\n",
    "\n",
    "\n",
    "Скачайте данные из репозитория и упакуйте их в один датасет. Вам понадобятся все произведения из репозитория.\n",
    "\n",
    "Проведите препроцессинг данных:\n",
    "- Очистите их от дубликатов.\n",
    "- Очистите от предложений с буквами не из кириллицы.\n",
    "- Обработайте повторяющуюся пунктуацию и т. д.\n",
    "- Разбейте на чанки поменьше, чтобы можно было добавить <bos> и <eos> токены в соответствии с обучаемой длиной контекста."
   ]
  },
  {
   "cell_type": "code",
   "execution_count": 21,
   "id": "2aff8ed8",
   "metadata": {},
   "outputs": [],
   "source": [
    "if not os.path.isdir(PRETRAIN_DATASET):\n",
    "    Repo.clone_from(\"https://github.com/JoannaBy/RussianNovels.git\", PRETRAIN_DATASET) "
   ]
  },
  {
   "cell_type": "code",
   "execution_count": 22,
   "id": "929d9c83",
   "metadata": {},
   "outputs": [],
   "source": [
    "texts = []\n",
    "for file_path in Path(Path(PRETRAIN_DATASET, \"corpus\")).glob(\"*.txt\"):\n",
    "    with file_path.open(\"r\", encoding=\"utf-8\") as f:\n",
    "        for line in f:\n",
    "            texts.append(line.strip())\n",
    "\n",
    "# удалим строки с недопустимыми символами\n",
    "allowed_pattern = re.compile(r\"^[А-Яа-яЁё0-9.,!?;:\\-()\\\"'\\s]+$\")\n",
    "texts = [t for t in texts if allowed_pattern.fullmatch(t)]\n",
    "\n",
    "# Заменяем повторяющиеся знаки пунктуации на один\n",
    "texts = [re.sub(r'([.,!?;:\\-()])\\1+', r'\\1', t) for t in texts]\n",
    "\n",
    "#удалим дубликаты\n",
    "texts = pd.DataFrame({'t': texts}).drop_duplicates()['t'].tolist()\n",
    "\n",
    "#перенесём строки, если они длиннее 300 слов\n",
    "max_words = 300 # из рассчёта, что ~1.5 токена на слово, а токенов у нас в контексте 512\n",
    "result = []\n",
    "for text in texts:\n",
    "    words = text.split()\n",
    "    if len(words) > max_words:\n",
    "        parts = [' '.join(words[i:i + max_words]) \\\n",
    "                    for i in range(0, len(words), max_words)]\n",
    "        result.extend(parts)\n",
    "    else:\n",
    "        result.append(text)\n",
    "texts = result"
   ]
  },
  {
   "cell_type": "code",
   "execution_count": 23,
   "id": "21f3d605",
   "metadata": {},
   "outputs": [
    {
     "data": {
      "text/plain": [
       "'- Тяжкое, тяжкое время, что говорить, - пробормотал он, - но унывать-то'"
      ]
     },
     "execution_count": 23,
     "metadata": {},
     "output_type": "execute_result"
    }
   ],
   "source": [
    "TEST_TEXT = texts[100]\n",
    "TEST_TEXT"
   ]
  },
  {
   "cell_type": "markdown",
   "id": "77515878",
   "metadata": {},
   "source": [
    "<div class=\"alert alert-secondary\">\n",
    "\n",
    "Создайте и обучите собственный токенизатор на полученных данных. Размер словаря выберите небольшим: при обучении только на рассмотренных текстах — около 3к токенов. В рассматриваемых данных язык намного менее разнообразен, чем в совокупных данных, поэтому крупные токенизаторы от реальных LLM могут не подойти. \n",
    "При создании токенизатора можете ориентироваться на [материал huggingface.co](https://huggingface.co/learn/llm-course/ru/chapter6/8). Рекомендуем использовать BPE."
   ]
  },
  {
   "cell_type": "code",
   "execution_count": 24,
   "id": "ea73b56e",
   "metadata": {},
   "outputs": [
    {
     "data": {
      "text/plain": [
       "[('-', (0, 1)),\n",
       " ('ĠÐ¢ÑıÐ¶ÐºÐ¾Ðµ', (1, 8)),\n",
       " (',', (8, 9)),\n",
       " ('ĠÑĤÑıÐ¶ÐºÐ¾Ðµ', (9, 16)),\n",
       " ('ĠÐ²ÑĢÐµÐ¼Ñı', (16, 22)),\n",
       " (',', (22, 23)),\n",
       " ('ĠÑĩÑĤÐ¾', (23, 27)),\n",
       " ('ĠÐ³Ð¾Ð²Ð¾ÑĢÐ¸ÑĤÑĮ', (27, 36)),\n",
       " (',', (36, 37)),\n",
       " ('Ġ-', (37, 39)),\n",
       " ('ĠÐ¿ÑĢÐ¾Ð±Ð¾ÑĢÐ¼Ð¾ÑĤÐ°Ð»', (39, 51)),\n",
       " ('ĠÐ¾Ð½', (51, 54)),\n",
       " (',', (54, 55)),\n",
       " ('Ġ-', (55, 57)),\n",
       " ('ĠÐ½Ð¾', (57, 60)),\n",
       " ('ĠÑĥÐ½ÑĭÐ²Ð°ÑĤÑĮ', (60, 68)),\n",
       " ('-', (68, 69)),\n",
       " ('ÑĤÐ¾', (69, 71))]"
      ]
     },
     "execution_count": 24,
     "metadata": {},
     "output_type": "execute_result"
    }
   ],
   "source": [
    "tokenizer = Tokenizer(BPE())\n",
    "tokenizer.pre_tokenizer = pre_tokenizers.ByteLevel(add_prefix_space=False)\n",
    "tokenizer.pre_tokenizer.pre_tokenize_str(TEST_TEXT)"
   ]
  },
  {
   "cell_type": "code",
   "execution_count": 25,
   "id": "a2ed49b6",
   "metadata": {},
   "outputs": [],
   "source": [
    "def get_training_corpus(texts):\n",
    "    for i in range(0, len(texts), 1000):\n",
    "        batch = [texts[j] for j in range(i, min(i + 1000, len(texts)))]\n",
    "        yield batch"
   ]
  },
  {
   "cell_type": "code",
   "execution_count": 26,
   "id": "2e324527",
   "metadata": {},
   "outputs": [
    {
     "name": "stdout",
     "output_type": "stream",
     "text": [
      "CPU times: total: 1min 59s\n",
      "Wall time: 24.1 s\n"
     ]
    }
   ],
   "source": [
    "%%time\n",
    "trainer = trainers.BpeTrainer(vocab_size=DICT_SIZE, special_tokens=[SPECIAL_TOKEN])\n",
    "tokenizer.train_from_iterator(get_training_corpus(texts), trainer=trainer)"
   ]
  },
  {
   "cell_type": "markdown",
   "id": "9c681be0",
   "metadata": {},
   "source": [
    "Посмотрим на токенизатор:"
   ]
  },
  {
   "cell_type": "code",
   "execution_count": 27,
   "id": "253297be",
   "metadata": {},
   "outputs": [
    {
     "name": "stdout",
     "output_type": "stream",
     "text": [
      "Vocab size: 3000\n",
      "Sample vocab: ['ĠÐ´Ð¾', 'ĠÐ²ÐµÑĢÐ½Ð¾', 'ĠÐ»ÑİÐ±Ð¾Ð²', 'Ð¾Ð¶', 'ĠÐ½ÐµÑģÑĩÐ°ÑģÑĤ', 'ĠÑĢÑĥÐ±', 'Ð¸Ð²Ð°ÐµÑĤ', 'ĠÐ³ÑĥÐ±Ñĭ', 'ĠÐ³Ð¾Ð²Ð¾ÑĢÐ¸ÑĤÑĮ', 'Ð½ÑıÐ·ÑĮ', 'ĠÐ¼Ð¸Ð½ÑĥÑĤ', 'ÑįÑĤ', 'Ð¾Ð¶Ñĥ', 'ĠÐ¸Ñħ', 'ÑĢÐ¸Ð¹', '?\"', 'Ð¾Ð»Ð¾', 'Ð¾ÑģÐºÐ²', 'ĠÑģÐ»Ð¾Ð²Ð°', 'ĠÐ¿ÑĢÐ¸Ð½', '¸', 'ĠÐ¡ÑĤÐµÐ¿', 'ĠÐ¿Ð¾ÐºÐ°Ð·Ð°Ð»Ð¾ÑģÑĮ', 'ĠÑĢÐµÐ·', 'Ð¾Ð»ÑĮÐ½Ð¾', 'ĠÑĩÐ°ÑģÑĤÐ¾', 'ĠÐ·Ð²', 'Ð¤', 'ÐºÐ½ÑĥÐ»Ð°', 'ĠÐŃÑĤÐ¾']\n"
     ]
    }
   ],
   "source": [
    "print(\"Vocab size:\", tokenizer.get_vocab_size())\n",
    "print(\"Sample vocab:\", list(tokenizer.get_vocab().keys())[:30])\n"
   ]
  },
  {
   "cell_type": "markdown",
   "id": "64d220b7",
   "metadata": {},
   "source": [
    "Посмотрим на токенизированный текст:"
   ]
  },
  {
   "cell_type": "code",
   "execution_count": 28,
   "id": "f59218a3",
   "metadata": {},
   "outputs": [
    {
     "name": "stdout",
     "output_type": "stream",
     "text": [
      "- Тяжкое, тяжкое время, что говорить, - пробормотал он, - но унывать-то\n",
      "['-', 'ĠÐ¢', 'ÑıÐ¶', 'ÐºÐ¾Ðµ', ',', 'ĠÑĤÑıÐ¶', 'ÐºÐ¾Ðµ', 'ĠÐ²ÑĢÐµÐ¼Ñı', ',', 'ĠÑĩÑĤÐ¾', 'ĠÐ³Ð¾Ð²Ð¾ÑĢÐ¸ÑĤÑĮ', ',', 'Ġ-', 'ĠÐ¿ÑĢÐ¾Ð±', 'Ð¾ÑĢ', 'Ð¼Ð¾ÑĤÐ°Ð»', 'ĠÐ¾Ð½', ',', 'Ġ-', 'ĠÐ½Ð¾', 'ĠÑĥ', 'Ð½Ñĭ', 'Ð²', 'Ð°ÑĤÑĮ', '-', 'ÑĤÐ¾']\n"
     ]
    }
   ],
   "source": [
    "print (TEST_TEXT)\n",
    "encoding = tokenizer.encode(TEST_TEXT)\n",
    "print (encoding.tokens)"
   ]
  },
  {
   "cell_type": "markdown",
   "id": "593828f1",
   "metadata": {},
   "source": [
    "Посмотрим на 3й токен:"
   ]
  },
  {
   "cell_type": "code",
   "execution_count": 29,
   "id": "fa0e6e36",
   "metadata": {},
   "outputs": [
    {
     "data": {
      "text/plain": [
       "' тяж'"
      ]
     },
     "execution_count": 29,
     "metadata": {},
     "output_type": "execute_result"
    }
   ],
   "source": [
    "start, end = encoding.offsets[5]\n",
    "TEST_TEXT[start:end]"
   ]
  },
  {
   "cell_type": "code",
   "execution_count": 30,
   "id": "91b23291",
   "metadata": {},
   "outputs": [],
   "source": [
    "wrapped_tokenizer = PreTrainedTokenizerFast(\n",
    "    tokenizer_object=tokenizer,\n",
    "    bos_token=SPECIAL_TOKEN,\n",
    "    eos_token=SPECIAL_TOKEN,\n",
    "    unk_token=\"<unk>\",\n",
    "    pad_token=SPECIAL_TOKEN # Зададим пэддинг-токен как токен конца\n",
    "    ) "
   ]
  },
  {
   "cell_type": "markdown",
   "id": "4f882f8c",
   "metadata": {},
   "source": [
    "<div class=\"alert alert-secondary\">\n",
    "\n",
    "Токенизируйте данные и подготовьте их к претрейну с длиной контекста 512 токенов в виде экземпляра класса transformers.Dataset."
   ]
  },
  {
   "cell_type": "code",
   "execution_count": 31,
   "id": "7535ed24",
   "metadata": {},
   "outputs": [],
   "source": [
    "texts = [text + SPECIAL_TOKEN for text in texts]"
   ]
  },
  {
   "cell_type": "code",
   "execution_count": 32,
   "id": "31d8c208",
   "metadata": {},
   "outputs": [
    {
     "data": {
      "text/plain": [
       "['Посвящается Любови Евгеньевне Белозерской<|endoftext|>',\n",
       " 'Пошел мелкий снег и вдруг  повалил  хлопьями.<|endoftext|>',\n",
       " 'Ветер завыл; сделалась метель. В одно  мгновение<|endoftext|>',\n",
       " 'темное  небо  смешалось  с  снежным  морем.  Все<|endoftext|>',\n",
       " 'исчезло.<|endoftext|>']"
      ]
     },
     "execution_count": 32,
     "metadata": {},
     "output_type": "execute_result"
    }
   ],
   "source": [
    "texts[:5]"
   ]
  },
  {
   "cell_type": "markdown",
   "id": "122345f0",
   "metadata": {},
   "source": [
    "👷🚧🚧🚧🚧🚧"
   ]
  },
  {
   "cell_type": "code",
   "execution_count": 36,
   "id": "53d43893",
   "metadata": {},
   "outputs": [
    {
     "name": "stdout",
     "output_type": "stream",
     "text": [
      "CPU times: total: 250 ms\n",
      "Wall time: 84 ms\n"
     ]
    },
    {
     "data": {
      "text/plain": [
       "Dataset({\n",
       "    features: ['input_ids', 'attention_mask'],\n",
       "    num_rows: 49\n",
       "})"
      ]
     },
     "execution_count": 36,
     "metadata": {},
     "output_type": "execute_result"
    }
   ],
   "source": [
    "%%time\n",
    "encodings = wrapped_tokenizer(\n",
    "    texts[:1000], # ВРЕМЕНО!!!!!!!!!!!!!!!!!!!!!!!! 👷🚧🚧🚧🚧🚧\n",
    "    add_special_tokens=False,\n",
    "    truncation=False,\n",
    ")\n",
    "all_ids = []\n",
    "for ids in encodings[\"input_ids\"]:\n",
    "    all_ids.extend(ids)\n",
    "\n",
    "chunks = [\n",
    "    all_ids[i:i + CONTEXT_LENGTH]\n",
    "    for i in range(0, len(all_ids), CONTEXT_LENGTH)\n",
    "    if len(all_ids[i:i + CONTEXT_LENGTH]) == CONTEXT_LENGTH\n",
    "]\n",
    "\n",
    "attention_masks = [[1] * CONTEXT_LENGTH for _ in chunks]\n",
    "\n",
    "dataset = Dataset.from_dict({\n",
    "    \"input_ids\": chunks,\n",
    "    \"attention_mask\": attention_masks,\n",
    "})\n",
    "\n",
    "dataset"
   ]
  },
  {
   "cell_type": "markdown",
   "id": "7e7aacea",
   "metadata": {},
   "source": [
    "<div class=\"alert alert-secondary\">\n",
    "\n",
    "Инициализируйте модель ~150M параметров c произвольной decoder-only архитектурой трансформера. Например, можно рассмотреть LlamaConfig с параметрами:\n",
    "- hidden_size=1024, intermediate_size=1536, num_hidden_layers=16, num_attention_heads=16, num_key_value_heads=8.\n",
    "\n",
    "Подготовьте коллбэки для валидации качества на промптах. Реализуйте обучение с помощью Trainer. Обратите внимание на параметры регуляризации weight_decay. Используйте подходящий batch_size — в диапазоне 64—128."
   ]
  },
  {
   "cell_type": "code",
   "execution_count": 34,
   "id": "7ea7680b",
   "metadata": {},
   "outputs": [
    {
     "name": "stdout",
     "output_type": "stream",
     "text": [
      "Модель инициализирована: 132.0M параметров\n"
     ]
    },
    {
     "name": "stderr",
     "output_type": "stream",
     "text": [
      "Map: 100%|██████████| 49/49 [00:00<00:00, 1385.26 examples/s]\n"
     ]
    },
    {
     "ename": "ImportError",
     "evalue": "Using the `Trainer` with `PyTorch` requires `accelerate>=0.26.0`: Please run `pip install transformers[torch]` or `pip install 'accelerate>=0.26.0'`",
     "output_type": "error",
     "traceback": [
      "\u001b[1;31m---------------------------------------------------------------------------\u001b[0m",
      "\u001b[1;31mImportError\u001b[0m                               Traceback (most recent call last)",
      "Cell \u001b[1;32mIn[34], line 58\u001b[0m\n\u001b[0;32m     43\u001b[0m test_prompts \u001b[38;5;241m=\u001b[39m [\n\u001b[0;32m     44\u001b[0m     \u001b[38;5;124m\"\u001b[39m\u001b[38;5;124mВсе мысли, которые имеют огромные последствия\u001b[39m\u001b[38;5;124m\"\u001b[39m,\n\u001b[0;32m     45\u001b[0m     \u001b[38;5;124m\"\u001b[39m\u001b[38;5;124mСила войска зависит от его духа\u001b[39m\u001b[38;5;124m\"\u001b[39m,\n\u001b[1;32m   (...)\u001b[0m\n\u001b[0;32m     53\u001b[0m     \u001b[38;5;124m\"\u001b[39m\u001b[38;5;124mЧтобы жить честно\u001b[39m\u001b[38;5;124m\"\u001b[39m\n\u001b[0;32m     54\u001b[0m ] \n\u001b[0;32m     56\u001b[0m callback \u001b[38;5;241m=\u001b[39m PromptEvalCallback(wrapped_tokenizer, test_prompts)\n\u001b[1;32m---> 58\u001b[0m training_args \u001b[38;5;241m=\u001b[39m \u001b[43mTrainingArguments\u001b[49m\u001b[43m(\u001b[49m\n\u001b[0;32m     59\u001b[0m \u001b[43m    \u001b[49m\u001b[43moutput_dir\u001b[49m\u001b[38;5;241;43m=\u001b[39;49m\u001b[38;5;124;43m\"\u001b[39;49m\u001b[38;5;124;43m./llama-small-pretrain\u001b[39;49m\u001b[38;5;124;43m\"\u001b[39;49m\u001b[43m,\u001b[49m\n\u001b[0;32m     60\u001b[0m \u001b[43m    \u001b[49m\u001b[43mper_device_train_batch_size\u001b[49m\u001b[38;5;241;43m=\u001b[39;49m\u001b[38;5;241;43m64\u001b[39;49m\u001b[43m,\u001b[49m\n\u001b[0;32m     61\u001b[0m \u001b[43m    \u001b[49m\u001b[43mgradient_accumulation_steps\u001b[49m\u001b[38;5;241;43m=\u001b[39;49m\u001b[38;5;241;43m1\u001b[39;49m\u001b[43m,\u001b[49m\n\u001b[0;32m     62\u001b[0m \u001b[43m    \u001b[49m\u001b[43mnum_train_epochs\u001b[49m\u001b[38;5;241;43m=\u001b[39;49m\u001b[38;5;241;43m1\u001b[39;49m\u001b[43m,\u001b[49m\n\u001b[0;32m     63\u001b[0m \u001b[43m    \u001b[49m\u001b[43mlearning_rate\u001b[49m\u001b[38;5;241;43m=\u001b[39;49m\u001b[38;5;241;43m2e-4\u001b[39;49m\u001b[43m,\u001b[49m\n\u001b[0;32m     64\u001b[0m \u001b[43m    \u001b[49m\u001b[43mweight_decay\u001b[49m\u001b[38;5;241;43m=\u001b[39;49m\u001b[38;5;241;43m0.01\u001b[39;49m\u001b[43m,\u001b[49m\n\u001b[0;32m     65\u001b[0m \u001b[43m    \u001b[49m\u001b[43mlogging_steps\u001b[49m\u001b[38;5;241;43m=\u001b[39;49m\u001b[38;5;241;43m50\u001b[39;49m\u001b[43m,\u001b[49m\n\u001b[0;32m     66\u001b[0m \u001b[43m    \u001b[49m\u001b[38;5;66;43;03m#evaluation_strategy=\"steps\",\u001b[39;49;00m\n\u001b[0;32m     67\u001b[0m \u001b[43m    \u001b[49m\u001b[43mdo_eval\u001b[49m\u001b[38;5;241;43m=\u001b[39;49m\u001b[38;5;28;43;01mTrue\u001b[39;49;00m\u001b[43m,\u001b[49m\n\u001b[0;32m     68\u001b[0m \u001b[43m    \u001b[49m\u001b[43meval_steps\u001b[49m\u001b[38;5;241;43m=\u001b[39;49m\u001b[38;5;241;43m200\u001b[39;49m\u001b[43m,\u001b[49m\n\u001b[0;32m     69\u001b[0m \u001b[43m    \u001b[49m\u001b[43msave_steps\u001b[49m\u001b[38;5;241;43m=\u001b[39;49m\u001b[38;5;241;43m200\u001b[39;49m\u001b[43m,\u001b[49m\n\u001b[0;32m     70\u001b[0m \u001b[43m    \u001b[49m\u001b[43msave_total_limit\u001b[49m\u001b[38;5;241;43m=\u001b[39;49m\u001b[38;5;241;43m2\u001b[39;49m\u001b[43m,\u001b[49m\n\u001b[0;32m     71\u001b[0m \u001b[43m    \u001b[49m\u001b[43mreport_to\u001b[49m\u001b[38;5;241;43m=\u001b[39;49m\u001b[38;5;124;43m\"\u001b[39;49m\u001b[38;5;124;43mnone\u001b[39;49m\u001b[38;5;124;43m\"\u001b[39;49m\u001b[43m,\u001b[49m\n\u001b[0;32m     72\u001b[0m \u001b[43m    \u001b[49m\u001b[43mbf16\u001b[49m\u001b[38;5;241;43m=\u001b[39;49m\u001b[43mtorch\u001b[49m\u001b[38;5;241;43m.\u001b[39;49m\u001b[43mcuda\u001b[49m\u001b[38;5;241;43m.\u001b[39;49m\u001b[43mis_available\u001b[49m\u001b[43m(\u001b[49m\u001b[43m)\u001b[49m\n\u001b[0;32m     73\u001b[0m \u001b[43m)\u001b[49m\n\u001b[0;32m     75\u001b[0m trainer \u001b[38;5;241m=\u001b[39m Trainer(\n\u001b[0;32m     76\u001b[0m     model\u001b[38;5;241m=\u001b[39mmodel,\n\u001b[0;32m     77\u001b[0m     args\u001b[38;5;241m=\u001b[39mtraining_args,\n\u001b[1;32m   (...)\u001b[0m\n\u001b[0;32m     82\u001b[0m     callbacks\u001b[38;5;241m=\u001b[39m[callback],\n\u001b[0;32m     83\u001b[0m )\n\u001b[0;32m     85\u001b[0m trainer\u001b[38;5;241m.\u001b[39mtrain()\n",
      "File \u001b[1;32m<string>:131\u001b[0m, in \u001b[0;36m__init__\u001b[1;34m(self, output_dir, overwrite_output_dir, do_train, do_eval, do_predict, eval_strategy, prediction_loss_only, per_device_train_batch_size, per_device_eval_batch_size, per_gpu_train_batch_size, per_gpu_eval_batch_size, gradient_accumulation_steps, eval_accumulation_steps, eval_delay, torch_empty_cache_steps, learning_rate, weight_decay, adam_beta1, adam_beta2, adam_epsilon, max_grad_norm, num_train_epochs, max_steps, lr_scheduler_type, lr_scheduler_kwargs, warmup_ratio, warmup_steps, log_level, log_level_replica, log_on_each_node, logging_dir, logging_strategy, logging_first_step, logging_steps, logging_nan_inf_filter, save_strategy, save_steps, save_total_limit, save_safetensors, save_on_each_node, save_only_model, restore_callback_states_from_checkpoint, no_cuda, use_cpu, use_mps_device, seed, data_seed, jit_mode_eval, use_ipex, bf16, fp16, fp16_opt_level, half_precision_backend, bf16_full_eval, fp16_full_eval, tf32, local_rank, ddp_backend, tpu_num_cores, tpu_metrics_debug, debug, dataloader_drop_last, eval_steps, dataloader_num_workers, dataloader_prefetch_factor, past_index, run_name, disable_tqdm, remove_unused_columns, label_names, load_best_model_at_end, metric_for_best_model, greater_is_better, ignore_data_skip, fsdp, fsdp_min_num_params, fsdp_config, fsdp_transformer_layer_cls_to_wrap, accelerator_config, deepspeed, label_smoothing_factor, optim, optim_args, adafactor, group_by_length, length_column_name, report_to, ddp_find_unused_parameters, ddp_bucket_cap_mb, ddp_broadcast_buffers, dataloader_pin_memory, dataloader_persistent_workers, skip_memory_metrics, use_legacy_prediction_loop, push_to_hub, resume_from_checkpoint, hub_model_id, hub_strategy, hub_token, hub_private_repo, hub_always_push, gradient_checkpointing, gradient_checkpointing_kwargs, include_inputs_for_metrics, include_for_metrics, eval_do_concat_batches, fp16_backend, push_to_hub_model_id, push_to_hub_organization, push_to_hub_token, mp_parameters, auto_find_batch_size, full_determinism, torchdynamo, ray_scope, ddp_timeout, torch_compile, torch_compile_backend, torch_compile_mode, include_tokens_per_second, include_num_input_tokens_seen, neftune_noise_alpha, optim_target_modules, batch_eval_metrics, eval_on_start, use_liger_kernel, eval_use_gather_object, average_tokens_across_devices)\u001b[0m\n",
      "File \u001b[1;32mc:\\ProgramData\\anaconda3\\envs\\practicumNLP-py311\\Lib\\site-packages\\transformers\\training_args.py:1738\u001b[0m, in \u001b[0;36mTrainingArguments.__post_init__\u001b[1;34m(self)\u001b[0m\n\u001b[0;32m   1736\u001b[0m \u001b[38;5;66;03m# Initialize device before we proceed\u001b[39;00m\n\u001b[0;32m   1737\u001b[0m \u001b[38;5;28;01mif\u001b[39;00m \u001b[38;5;28mself\u001b[39m\u001b[38;5;241m.\u001b[39mframework \u001b[38;5;241m==\u001b[39m \u001b[38;5;124m\"\u001b[39m\u001b[38;5;124mpt\u001b[39m\u001b[38;5;124m\"\u001b[39m \u001b[38;5;129;01mand\u001b[39;00m is_torch_available():\n\u001b[1;32m-> 1738\u001b[0m     \u001b[38;5;28;43mself\u001b[39;49m\u001b[38;5;241;43m.\u001b[39;49m\u001b[43mdevice\u001b[49m\n\u001b[0;32m   1740\u001b[0m \u001b[38;5;66;03m# Disable average tokens when using single device\u001b[39;00m\n\u001b[0;32m   1741\u001b[0m \u001b[38;5;28;01mif\u001b[39;00m \u001b[38;5;28mself\u001b[39m\u001b[38;5;241m.\u001b[39maverage_tokens_across_devices:\n",
      "File \u001b[1;32mc:\\ProgramData\\anaconda3\\envs\\practicumNLP-py311\\Lib\\site-packages\\transformers\\training_args.py:2268\u001b[0m, in \u001b[0;36mTrainingArguments.device\u001b[1;34m(self)\u001b[0m\n\u001b[0;32m   2264\u001b[0m \u001b[38;5;250m\u001b[39m\u001b[38;5;124;03m\"\"\"\u001b[39;00m\n\u001b[0;32m   2265\u001b[0m \u001b[38;5;124;03mThe device used by this process.\u001b[39;00m\n\u001b[0;32m   2266\u001b[0m \u001b[38;5;124;03m\"\"\"\u001b[39;00m\n\u001b[0;32m   2267\u001b[0m requires_backends(\u001b[38;5;28mself\u001b[39m, [\u001b[38;5;124m\"\u001b[39m\u001b[38;5;124mtorch\u001b[39m\u001b[38;5;124m\"\u001b[39m])\n\u001b[1;32m-> 2268\u001b[0m \u001b[38;5;28;01mreturn\u001b[39;00m \u001b[38;5;28;43mself\u001b[39;49m\u001b[38;5;241;43m.\u001b[39;49m\u001b[43m_setup_devices\u001b[49m\n",
      "File \u001b[1;32mc:\\ProgramData\\anaconda3\\envs\\practicumNLP-py311\\Lib\\site-packages\\transformers\\utils\\generic.py:67\u001b[0m, in \u001b[0;36mcached_property.__get__\u001b[1;34m(self, obj, objtype)\u001b[0m\n\u001b[0;32m     65\u001b[0m cached \u001b[38;5;241m=\u001b[39m \u001b[38;5;28mgetattr\u001b[39m(obj, attr, \u001b[38;5;28;01mNone\u001b[39;00m)\n\u001b[0;32m     66\u001b[0m \u001b[38;5;28;01mif\u001b[39;00m cached \u001b[38;5;129;01mis\u001b[39;00m \u001b[38;5;28;01mNone\u001b[39;00m:\n\u001b[1;32m---> 67\u001b[0m     cached \u001b[38;5;241m=\u001b[39m \u001b[38;5;28;43mself\u001b[39;49m\u001b[38;5;241;43m.\u001b[39;49m\u001b[43mfget\u001b[49m\u001b[43m(\u001b[49m\u001b[43mobj\u001b[49m\u001b[43m)\u001b[49m\n\u001b[0;32m     68\u001b[0m     \u001b[38;5;28msetattr\u001b[39m(obj, attr, cached)\n\u001b[0;32m     69\u001b[0m \u001b[38;5;28;01mreturn\u001b[39;00m cached\n",
      "File \u001b[1;32mc:\\ProgramData\\anaconda3\\envs\\practicumNLP-py311\\Lib\\site-packages\\transformers\\training_args.py:2138\u001b[0m, in \u001b[0;36mTrainingArguments._setup_devices\u001b[1;34m(self)\u001b[0m\n\u001b[0;32m   2136\u001b[0m \u001b[38;5;28;01mif\u001b[39;00m \u001b[38;5;129;01mnot\u001b[39;00m is_sagemaker_mp_enabled():\n\u001b[0;32m   2137\u001b[0m     \u001b[38;5;28;01mif\u001b[39;00m \u001b[38;5;129;01mnot\u001b[39;00m is_accelerate_available():\n\u001b[1;32m-> 2138\u001b[0m         \u001b[38;5;28;01mraise\u001b[39;00m \u001b[38;5;167;01mImportError\u001b[39;00m(\n\u001b[0;32m   2139\u001b[0m             \u001b[38;5;124mf\u001b[39m\u001b[38;5;124m\"\u001b[39m\u001b[38;5;124mUsing the `Trainer` with `PyTorch` requires `accelerate>=\u001b[39m\u001b[38;5;132;01m{\u001b[39;00mACCELERATE_MIN_VERSION\u001b[38;5;132;01m}\u001b[39;00m\u001b[38;5;124m`: \u001b[39m\u001b[38;5;124m\"\u001b[39m\n\u001b[0;32m   2140\u001b[0m             \u001b[38;5;124mf\u001b[39m\u001b[38;5;124m\"\u001b[39m\u001b[38;5;124mPlease run `pip install transformers[torch]` or `pip install \u001b[39m\u001b[38;5;124m'\u001b[39m\u001b[38;5;124maccelerate>=\u001b[39m\u001b[38;5;132;01m{\u001b[39;00mACCELERATE_MIN_VERSION\u001b[38;5;132;01m}\u001b[39;00m\u001b[38;5;124m'\u001b[39m\u001b[38;5;124m`\u001b[39m\u001b[38;5;124m\"\u001b[39m\n\u001b[0;32m   2141\u001b[0m         )\n\u001b[0;32m   2142\u001b[0m \u001b[38;5;66;03m# We delay the init of `PartialState` to the end for clarity\u001b[39;00m\n\u001b[0;32m   2143\u001b[0m accelerator_state_kwargs \u001b[38;5;241m=\u001b[39m {\u001b[38;5;124m\"\u001b[39m\u001b[38;5;124menabled\u001b[39m\u001b[38;5;124m\"\u001b[39m: \u001b[38;5;28;01mTrue\u001b[39;00m, \u001b[38;5;124m\"\u001b[39m\u001b[38;5;124muse_configured_state\u001b[39m\u001b[38;5;124m\"\u001b[39m: \u001b[38;5;28;01mFalse\u001b[39;00m}\n",
      "\u001b[1;31mImportError\u001b[0m: Using the `Trainer` with `PyTorch` requires `accelerate>=0.26.0`: Please run `pip install transformers[torch]` or `pip install 'accelerate>=0.26.0'`"
     ]
    }
   ],
   "source": [
    "config = LlamaConfig(\n",
    "    vocab_size=wrapped_tokenizer.vocab_size,\n",
    "    hidden_size=1024,\n",
    "    intermediate_size=1536,\n",
    "    num_hidden_layers=16,\n",
    "    num_attention_heads=16,\n",
    "    num_key_value_heads=8,\n",
    "    max_position_embeddings=512,\n",
    "    bos_token_id=wrapped_tokenizer.bos_token_id,\n",
    "    eos_token_id=wrapped_tokenizer.eos_token_id,\n",
    ")\n",
    "\n",
    "model = LlamaForCausalLM(config)\n",
    "print(f\"Модель инициализирована: {sum(p.numel() for p in model.parameters())/1e6:.1f}M параметров\")\n",
    "\n",
    "dataset = dataset.map(lambda x: {\"labels\": x[\"input_ids\"]})\n",
    "\n",
    "dataset = dataset.train_test_split(test_size=0.05, seed=42)\n",
    "train_dataset = dataset[\"train\"]\n",
    "val_dataset = dataset[\"test\"]\n",
    "\n",
    "collator = DataCollatorForLanguageModeling(\n",
    "    tokenizer=wrapped_tokenizer,\n",
    "    mlm=False\n",
    ")\n",
    "\n",
    "class PromptEvalCallback(TrainerCallback):\n",
    "    def __init__(self, tokenizer, prompts):\n",
    "        self.tokenizer = tokenizer\n",
    "        self.prompts = prompts\n",
    "\n",
    "    def on_evaluate(self, args, state, control, **kwargs):\n",
    "        model = kwargs[\"model\"]\n",
    "        model.eval()\n",
    "        print(\"\\n=== Валидация на промптах ===\")\n",
    "        for prompt in self.prompts:\n",
    "            inputs = self.tokenizer(prompt, return_tensors=\"pt\").to(model.device)\n",
    "            with torch.no_grad():\n",
    "                outputs = model.generate(**inputs, max_new_tokens=30)\n",
    "            text = self.tokenizer.decode(outputs[0], skip_special_tokens=True)\n",
    "            print(f\"\\n[Prompt] {prompt}\\n[Output] {text}\")\n",
    "\n",
    "test_prompts = [\n",
    "    \"Все мысли, которые имеют огромные последствия\",\n",
    "    \"Сила войска зависит от его духа\",\n",
    "    \"Мысль о том, что он принес страдания\",\n",
    "    \"Человек сознает себя свободным\",\n",
    "    \"Что бы ни случилось, я всегда буду\",\n",
    "    \"Любовь мешает смерти\",\n",
    "    \"Нет, жизнь не кончена\",\n",
    "    \"Всякая мысль, даже самая простая\",\n",
    "    \"Война не любезность, а самое гадкое дело\",\n",
    "    \"Чтобы жить честно\"\n",
    "] \n",
    "\n",
    "callback = PromptEvalCallback(wrapped_tokenizer, test_prompts)\n",
    "\n",
    "training_args = TrainingArguments(\n",
    "    output_dir=\"./llama-small-pretrain\",\n",
    "    per_device_train_batch_size=64,\n",
    "    gradient_accumulation_steps=1,\n",
    "    num_train_epochs=1,\n",
    "    learning_rate=2e-4,\n",
    "    weight_decay=0.01,\n",
    "    logging_steps=50,\n",
    "    #evaluation_strategy=\"steps\",\n",
    "    do_eval=True,\n",
    "    eval_steps=200,\n",
    "    save_steps=200,\n",
    "    save_total_limit=2,\n",
    "    report_to=\"none\",\n",
    "    bf16=torch.cuda.is_available()\n",
    ")\n",
    "\n",
    "trainer = Trainer(\n",
    "    model=model,\n",
    "    args=training_args,\n",
    "    data_collator=collator,\n",
    "    train_dataset=train_dataset,\n",
    "    eval_dataset=val_dataset,\n",
    "    tokenizer=wrapped_tokenizer,\n",
    "    callbacks=[callback],\n",
    ")\n",
    "\n",
    "trainer.train()"
   ]
  },
  {
   "cell_type": "markdown",
   "id": "a4a3d040",
   "metadata": {},
   "source": []
  }
 ],
 "metadata": {
  "kernelspec": {
   "display_name": "practicumNLP-py311",
   "language": "python",
   "name": "python3"
  },
  "language_info": {
   "codemirror_mode": {
    "name": "ipython",
    "version": 3
   },
   "file_extension": ".py",
   "mimetype": "text/x-python",
   "name": "python",
   "nbconvert_exporter": "python",
   "pygments_lexer": "ipython3",
   "version": "3.11.13"
  }
 },
 "nbformat": 4,
 "nbformat_minor": 5
}
