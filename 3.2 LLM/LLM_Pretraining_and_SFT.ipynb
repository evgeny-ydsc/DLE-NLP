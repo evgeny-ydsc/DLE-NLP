{
 "cells": [
  {
   "cell_type": "markdown",
   "id": "03ce0391",
   "metadata": {},
   "source": [
    "# Проект: pretraining LLM и posttraining LLM\n",
    "\n",
    "## Постановка задачи\n",
    "\n",
    "- Pretraining\n",
    "    - Претрейн — самый ресурсоёмкий этап обучения LLM. Чтобы полноценно обучить даже небольшую модель (менее 1B), понадобится более 10к GPU-часов на A100. Чтобы не тратить недели на обучение, но отработать ключевые приёмы, в проекте вы выполните упрощённую задачу. \n",
    "    - При полноценном претрейне модель учится обобщать знания из данных, на которых происходило обучение, чтобы потом извлекать эти знания по текстовым запросам уже после обучения. Упростим задачу — научим модель только структуре языка. \n",
    "    - Сосредоточимся на одном узком домене — **текстах произведений русской литературы** — и **обучим модель продолжать фразы из этого домена разумным текстом**. \n",
    "- Posttraining\n",
    "    - Для SFT-этапа можно использовать значительно меньше данных, поэтому возьмём модель крупнее. Рассмотрим базовую модель **Qwen2.5-0.5B**, с которой вы встречались в уроках. **Обучите её генерировать ответы на инструктивные русскоязычные вопросы**.\n",
    "\n",
    "## Критерии успеха\n",
    "- Pretraining - чтобы оценить качество, используйте промпты:\n",
    "    - \"Все мысли, которые имеют огромные последствия\",\n",
    "    - \"Сила войска зависит от его духа\",\n",
    "    - \"Мысль о том, что он принес страдания\",\n",
    "    - \"Человек сознает себя свободным\",\n",
    "    - \"Что бы ни случилось, я всегда буду\",\n",
    "    - \"Любовь мешает смерти\",\n",
    "    - \"Нет, жизнь не кончена\",\n",
    "    - \"Всякая мысль, даже самая простая\",\n",
    "    - \"Война не любезность, а самое гадкое дело\",\n",
    "    - \"Чтобы жить честно\"\n",
    "- Posttraining - качество данных должно быть сопоставимо с таким вариантом::\n",
    "    - Model Input 1:\n",
    "    сколько планет в нашей солнечной системе?\n",
    "        - Model Output 1:\n",
    "    Согласно последним исследованиям, Солнце имеет 8 планеты. Это дает планетам, которые соответствуют разным критериям, таким как диета, местоположение, плотность, климат и другие.\n",
    "    assistant\n",
    "    Общее размер нашей Солнечной системы составляет примерно 9,9 миллиарда километров, а в результате на каждом из них есть планета,\n",
    "    - Model Input 2:\n",
    "    расскажи стих\n",
    "        - Model Output 2:\n",
    "    Вот сладкий сладкий вкус, который ты получаешь на себе\n",
    "    Когда я говорю, что я люблю тебя\n",
    "    Мое сердце, у меня есть все, что я хочу, чтобы сделать\n",
    "    У меня есть все, что мне нужно, чтобы быть хорошим\n",
    "    Так давай пойдем в ресторан\n",
    "    assistant\n",
    "    Пока мы уседим, что мы можем\n",
    "    И в этот момент мы возвращаемся к при\n",
    "    - Model Input 3:\n",
    "    когда собирать крыжовник?\n",
    "        - Model Output 3:\n",
    "    Когда собираешь крыжовник, важно не беспокоиться о том, что другие могут его хвастаться. Вместо этого проверяйте свои способности и готовность. Вы можете изучить свой талант и стремления, прежде чем принимать решение, и признавать, что у вас есть свои сильные стороны, а также слабые места. Не снимайте крыжовник в обществе, и обязательно помните о\n",
    "    - Model Input 4:\n",
    "    Как быстро выучить новый язык?\n",
    "        - Model Output 4:\n",
    "    Скорость усвоения нового языка может сильно различаться в зависимости от нескольких факторов, таких как скорость, с которой вы пакетируете информацию через ее и ее способность учиться в различных условиях. Тем не менее, вот некоторые общие рекомендации: 1. Делайте сценарии. Обычно это может занять от 2 до 4 лет, чтобы понять основные концепции. Вы можете начать с"
   ]
  },
  {
   "cell_type": "markdown",
   "id": "4343bf23",
   "metadata": {},
   "source": [
    "<div class=\"alert alert-secondary\" style=\"background-color:#D9EEE1;color:black;\">\n",
    "\n",
    "## Описание данных\n",
    "\n",
    "- Pretrain\n",
    "    - https://github.com/JoannaBy/RussianNovels/tree/master/corpus \n",
    "- Posttrain\n",
    "    - русскоязычный инструктивный датасет [d0rj/alpaca-cleaned-ru](https://huggingface.co/datasets/d0rj/alpaca-cleaned-ru) в диалоговом формате"
   ]
  },
  {
   "cell_type": "markdown",
   "id": "e905d42a",
   "metadata": {},
   "source": [
    "## Инициализация"
   ]
  },
  {
   "cell_type": "markdown",
   "id": "fb4fd01d",
   "metadata": {},
   "source": [
    "### Импорт библиотек"
   ]
  },
  {
   "cell_type": "code",
   "execution_count": 1,
   "id": "fc2623a4",
   "metadata": {},
   "outputs": [],
   "source": [
    "!pip install GitPython -q"
   ]
  },
  {
   "cell_type": "code",
   "execution_count": 2,
   "id": "cb23077c",
   "metadata": {},
   "outputs": [
    {
     "name": "stderr",
     "output_type": "stream",
     "text": [
      "c:\\ProgramData\\anaconda3\\envs\\practicumNLP-py311\\Lib\\site-packages\\tqdm\\auto.py:21: TqdmWarning: IProgress not found. Please update jupyter and ipywidgets. See https://ipywidgets.readthedocs.io/en/stable/user_install.html\n",
      "  from .autonotebook import tqdm as notebook_tqdm\n"
     ]
    }
   ],
   "source": [
    "import os\n",
    "import re\n",
    "from git import Repo\n",
    "from pathlib import Path\n",
    "from datasets import Dataset\n",
    "import pandas as pd\n",
    "from tokenizers import Tokenizer, pre_tokenizers, trainers\n",
    "from transformers import PreTrainedTokenizerFast\n",
    "from tokenizers.models import BPE"
   ]
  },
  {
   "cell_type": "markdown",
   "id": "07b78884",
   "metadata": {},
   "source": [
    "### Установка главных параметров"
   ]
  },
  {
   "cell_type": "code",
   "execution_count": 3,
   "id": "c0e48b31",
   "metadata": {},
   "outputs": [],
   "source": [
    "PRETRAIN_DATASET =  \"pretrain-dataset\"\n",
    "DICT_SIZE = 3000\n",
    "SPECIAL_TOKEN = \"<|endoftext|>\"\n",
    "CONTEXT_LENGTH = 512"
   ]
  },
  {
   "cell_type": "markdown",
   "id": "6c3f98b8",
   "metadata": {},
   "source": [
    "# Pretraining"
   ]
  },
  {
   "cell_type": "markdown",
   "id": "5f277c58",
   "metadata": {},
   "source": [
    "<div class=\"alert alert-secondary\">\n",
    "\n",
    "\n",
    "Скачайте данные из репозитория и упакуйте их в один датасет. Вам понадобятся все произведения из репозитория.\n",
    "\n",
    "Проведите препроцессинг данных:\n",
    "- Очистите их от дубликатов.\n",
    "- Очистите от предложений с буквами не из кириллицы.\n",
    "- Обработайте повторяющуюся пунктуацию и т. д.\n",
    "- Разбейте на чанки поменьше, чтобы можно было добавить <bos> и <eos> токены в соответствии с обучаемой длиной контекста."
   ]
  },
  {
   "cell_type": "code",
   "execution_count": 4,
   "id": "2aff8ed8",
   "metadata": {},
   "outputs": [],
   "source": [
    "if not os.path.isdir(PRETRAIN_DATASET):\n",
    "    Repo.clone_from(\"https://github.com/JoannaBy/RussianNovels.git\", PRETRAIN_DATASET) "
   ]
  },
  {
   "cell_type": "code",
   "execution_count": 5,
   "id": "929d9c83",
   "metadata": {},
   "outputs": [],
   "source": [
    "texts = []\n",
    "for file_path in Path(Path(PRETRAIN_DATASET, \"corpus\")).glob(\"*.txt\"):\n",
    "    with file_path.open(\"r\", encoding=\"utf-8\") as f:\n",
    "        for line in f:\n",
    "            texts.append(line.strip())\n",
    "\n",
    "# удалим строки с недопустимыми символами\n",
    "allowed_pattern = re.compile(r\"^[А-Яа-яЁё0-9.,!?;:\\-()\\\"'\\s]+$\")\n",
    "texts = [t for t in texts if allowed_pattern.fullmatch(t)]\n",
    "\n",
    "# Заменяем повторяющиеся знаки пунктуации на один\n",
    "texts = [re.sub(r'([.,!?;:\\-()])\\1+', r'\\1', t) for t in texts]\n",
    "\n",
    "#удалим дубликаты\n",
    "texts = pd.DataFrame({'t': texts}).drop_duplicates()['t'].tolist()\n",
    "\n",
    "#перенесём строки, если они длиннее 300 слов\n",
    "max_words = 300 # из рассчёта, что ~1.5 токена на слово, а токенов у нас в контексте 512\n",
    "result = []\n",
    "for text in texts:\n",
    "    words = text.split()\n",
    "    if len(words) > max_words:\n",
    "        parts = [' '.join(words[i:i + max_words]) \\\n",
    "                    for i in range(0, len(words), max_words)]\n",
    "        result.extend(parts)\n",
    "    else:\n",
    "        result.append(text)\n",
    "texts = result"
   ]
  },
  {
   "cell_type": "code",
   "execution_count": 6,
   "id": "21f3d605",
   "metadata": {},
   "outputs": [
    {
     "data": {
      "text/plain": [
       "'- Тяжкое, тяжкое время, что говорить, - пробормотал он, - но унывать-то'"
      ]
     },
     "execution_count": 6,
     "metadata": {},
     "output_type": "execute_result"
    }
   ],
   "source": [
    "TEST_TEXT = texts[100]\n",
    "TEST_TEXT"
   ]
  },
  {
   "cell_type": "markdown",
   "id": "77515878",
   "metadata": {},
   "source": [
    "<div class=\"alert alert-secondary\">\n",
    "\n",
    "Создайте и обучите собственный токенизатор на полученных данных. Размер словаря выберите небольшим: при обучении только на рассмотренных текстах — около 3к токенов. В рассматриваемых данных язык намного менее разнообразен, чем в совокупных данных, поэтому крупные токенизаторы от реальных LLM могут не подойти. \n",
    "При создании токенизатора можете ориентироваться на [материал huggingface.co](https://huggingface.co/learn/llm-course/ru/chapter6/8). Рекомендуем использовать BPE."
   ]
  },
  {
   "cell_type": "code",
   "execution_count": 7,
   "id": "ea73b56e",
   "metadata": {},
   "outputs": [
    {
     "data": {
      "text/plain": [
       "[('-', (0, 1)),\n",
       " ('ĠÐ¢ÑıÐ¶ÐºÐ¾Ðµ', (1, 8)),\n",
       " (',', (8, 9)),\n",
       " ('ĠÑĤÑıÐ¶ÐºÐ¾Ðµ', (9, 16)),\n",
       " ('ĠÐ²ÑĢÐµÐ¼Ñı', (16, 22)),\n",
       " (',', (22, 23)),\n",
       " ('ĠÑĩÑĤÐ¾', (23, 27)),\n",
       " ('ĠÐ³Ð¾Ð²Ð¾ÑĢÐ¸ÑĤÑĮ', (27, 36)),\n",
       " (',', (36, 37)),\n",
       " ('Ġ-', (37, 39)),\n",
       " ('ĠÐ¿ÑĢÐ¾Ð±Ð¾ÑĢÐ¼Ð¾ÑĤÐ°Ð»', (39, 51)),\n",
       " ('ĠÐ¾Ð½', (51, 54)),\n",
       " (',', (54, 55)),\n",
       " ('Ġ-', (55, 57)),\n",
       " ('ĠÐ½Ð¾', (57, 60)),\n",
       " ('ĠÑĥÐ½ÑĭÐ²Ð°ÑĤÑĮ', (60, 68)),\n",
       " ('-', (68, 69)),\n",
       " ('ÑĤÐ¾', (69, 71))]"
      ]
     },
     "execution_count": 7,
     "metadata": {},
     "output_type": "execute_result"
    }
   ],
   "source": [
    "tokenizer = Tokenizer(BPE())\n",
    "tokenizer.pre_tokenizer = pre_tokenizers.ByteLevel(add_prefix_space=False)\n",
    "tokenizer.pre_tokenizer.pre_tokenize_str(TEST_TEXT)"
   ]
  },
  {
   "cell_type": "markdown",
   "id": "9ad718d5",
   "metadata": {},
   "source": [
    "Чатжипити пишет: эти «кракозябры» — не ошибка, а байтовое представление UTF-8 текста. Хорошо, едем дальше.."
   ]
  },
  {
   "cell_type": "code",
   "execution_count": 8,
   "id": "a2ed49b6",
   "metadata": {},
   "outputs": [],
   "source": [
    "def get_training_corpus(texts):\n",
    "    for i in range(0, len(texts), 1000):\n",
    "        batch = [texts[j] for j in range(i, min(i + 1000, len(texts)))]\n",
    "        yield batch"
   ]
  },
  {
   "cell_type": "code",
   "execution_count": 9,
   "id": "2e324527",
   "metadata": {},
   "outputs": [
    {
     "name": "stdout",
     "output_type": "stream",
     "text": [
      "CPU times: total: 2min 11s\n",
      "Wall time: 25.8 s\n"
     ]
    }
   ],
   "source": [
    "%%time\n",
    "trainer = trainers.BpeTrainer(vocab_size=DICT_SIZE, special_tokens=[SPECIAL_TOKEN])\n",
    "tokenizer.train_from_iterator(get_training_corpus(texts), trainer=trainer)"
   ]
  },
  {
   "cell_type": "markdown",
   "id": "9c681be0",
   "metadata": {},
   "source": [
    "Посмотрим на токенизатор:"
   ]
  },
  {
   "cell_type": "code",
   "execution_count": 10,
   "id": "253297be",
   "metadata": {},
   "outputs": [
    {
     "name": "stdout",
     "output_type": "stream",
     "text": [
      "Vocab size: 3000\n",
      "Sample vocab: ['ĠÐ´Ð¾Ð»Ð³Ð¾', 'ĠÐ»ÐµÐ³', 'ī', 'ĠÐºÐ¾Ð¼Ð½Ð°ÑĤÑĥ', 'ĠÑħÐ¾ÑĤÑı', 'Ð¾ÐºÐ°', 'ĠÐºÐ¾ÑĤÐ¾ÑĢÐ¾Ð¼', 'ĠÑģÐ²', 'ĠÐ¼Ð¾Ð»Ð¾Ð´Ð¾Ð¹', 'ĠÐ¼ÐµÐ»', 'ĠÐ¸ÑģÑĩÐµÐ·', 'ĠÑĤÐ¾Ð±Ð¾Ð¹', 'ĠÑĩÐ¸ÑģÑĤ', 'ĠÐ³Ð»Ð°Ð·', 'ĠÑģÐ»ÑĭÑĪ', 'Ð½Ð¸ÐºÐ°', 'ĠÐŀÑĩ', 'ĠÐ·Ð½Ð°ÐºÐ¾Ð¼', 'ĠÐ½ÐµÐ½Ð°Ð²', 'ĠÐ¾Ð³Ð»Ñı', 'ĠÐĲ', 'ĠÐ¿ÑĢÐ¸Ð´', 'ĠÐ¼ÑĭÑģÐ»Ð¸', 'ĠÐ¾Ðº', 'ĠÐ°', 'ĠÐ¾ÑĤÑĨÐ°', 'ÐµÐ½Ð¸Ð¸', 'ĠÐĺÐ²Ð°Ð½Ð¾Ð²Ð¸Ñĩ', 'ÐºÑĥ', 'Ð°ÑĤÑĢ']\n"
     ]
    }
   ],
   "source": [
    "print(\"Vocab size:\", tokenizer.get_vocab_size())\n",
    "print(\"Sample vocab:\", list(tokenizer.get_vocab().keys())[:30])\n"
   ]
  },
  {
   "cell_type": "markdown",
   "id": "64d220b7",
   "metadata": {},
   "source": [
    "Посмотрим на токенизированный текст:"
   ]
  },
  {
   "cell_type": "code",
   "execution_count": 11,
   "id": "f59218a3",
   "metadata": {},
   "outputs": [
    {
     "name": "stdout",
     "output_type": "stream",
     "text": [
      "- Тяжкое, тяжкое время, что говорить, - пробормотал он, - но унывать-то\n",
      "['-', 'ĠÐ¢', 'ÑıÐ¶', 'ÐºÐ¾Ðµ', ',', 'ĠÑĤÑıÐ¶', 'ÐºÐ¾Ðµ', 'ĠÐ²ÑĢÐµÐ¼Ñı', ',', 'ĠÑĩÑĤÐ¾', 'ĠÐ³Ð¾Ð²Ð¾ÑĢÐ¸ÑĤÑĮ', ',', 'Ġ-', 'ĠÐ¿ÑĢÐ¾Ð±', 'Ð¾ÑĢ', 'Ð¼Ð¾ÑĤÐ°Ð»', 'ĠÐ¾Ð½', ',', 'Ġ-', 'ĠÐ½Ð¾', 'ĠÑĥ', 'Ð½Ñĭ', 'Ð²', 'Ð°ÑĤÑĮ', '-', 'ÑĤÐ¾']\n"
     ]
    }
   ],
   "source": [
    "print (TEST_TEXT)\n",
    "encoding = tokenizer.encode(TEST_TEXT)\n",
    "print (encoding.tokens)"
   ]
  },
  {
   "cell_type": "markdown",
   "id": "593828f1",
   "metadata": {},
   "source": [
    "Посмотрим на 3й токен:"
   ]
  },
  {
   "cell_type": "code",
   "execution_count": 12,
   "id": "fa0e6e36",
   "metadata": {},
   "outputs": [
    {
     "data": {
      "text/plain": [
       "' тяж'"
      ]
     },
     "execution_count": 12,
     "metadata": {},
     "output_type": "execute_result"
    }
   ],
   "source": [
    "start, end = encoding.offsets[5]\n",
    "TEST_TEXT[start:end]"
   ]
  },
  {
   "cell_type": "code",
   "execution_count": 13,
   "id": "91b23291",
   "metadata": {},
   "outputs": [],
   "source": [
    "wrapped_tokenizer = PreTrainedTokenizerFast(\n",
    "    tokenizer_object=tokenizer,\n",
    "    bos_token=SPECIAL_TOKEN,\n",
    "    eos_token=SPECIAL_TOKEN,\n",
    "    unk_token=\"<unk>\",\n",
    "    pad_token=SPECIAL_TOKEN # Зададим пэддинг-токен как токен конца\n",
    "    ) "
   ]
  },
  {
   "cell_type": "markdown",
   "id": "4f882f8c",
   "metadata": {},
   "source": [
    "<div class=\"alert alert-secondary\">\n",
    "\n",
    "Токенизируйте данные и подготовьте их к претрейну с длиной контекста 512 токенов в виде экземпляра класса transformers.Dataset."
   ]
  },
  {
   "cell_type": "code",
   "execution_count": 14,
   "id": "7535ed24",
   "metadata": {},
   "outputs": [],
   "source": [
    "texts = [text + SPECIAL_TOKEN for text in texts]"
   ]
  },
  {
   "cell_type": "code",
   "execution_count": 15,
   "id": "31d8c208",
   "metadata": {},
   "outputs": [
    {
     "data": {
      "text/plain": [
       "['Посвящается Любови Евгеньевне Белозерской<|endoftext|>',\n",
       " 'Пошел мелкий снег и вдруг  повалил  хлопьями.<|endoftext|>',\n",
       " 'Ветер завыл; сделалась метель. В одно  мгновение<|endoftext|>',\n",
       " 'темное  небо  смешалось  с  снежным  морем.  Все<|endoftext|>',\n",
       " 'исчезло.<|endoftext|>']"
      ]
     },
     "execution_count": 15,
     "metadata": {},
     "output_type": "execute_result"
    }
   ],
   "source": [
    "texts[:5]"
   ]
  },
  {
   "cell_type": "code",
   "execution_count": 26,
   "id": "53d43893",
   "metadata": {},
   "outputs": [
    {
     "name": "stdout",
     "output_type": "stream",
     "text": [
      "CPU times: total: 1min 45s\n",
      "Wall time: 26.3 s\n"
     ]
    },
    {
     "data": {
      "text/plain": [
       "Dataset({\n",
       "    features: ['input_ids', 'attention_mask'],\n",
       "    num_rows: 22335\n",
       "})"
      ]
     },
     "execution_count": 26,
     "metadata": {},
     "output_type": "execute_result"
    }
   ],
   "source": [
    "%%time\n",
    "encodings = wrapped_tokenizer(\n",
    "    texts,\n",
    "    add_special_tokens=False,\n",
    "    truncation=False,\n",
    ")\n",
    "all_ids = []\n",
    "for ids in encodings[\"input_ids\"]:\n",
    "    all_ids.extend(ids)\n",
    "\n",
    "chunks = [\n",
    "    all_ids[i:i + CONTEXT_LENGTH]\n",
    "    for i in range(0, len(all_ids), CONTEXT_LENGTH)\n",
    "    if len(all_ids[i:i + CONTEXT_LENGTH]) == CONTEXT_LENGTH\n",
    "]\n",
    "\n",
    "attention_masks = [[1] * CONTEXT_LENGTH for _ in chunks]\n",
    "\n",
    "dataset = Dataset.from_dict({\n",
    "    \"input_ids\": chunks,\n",
    "    \"attention_mask\": attention_masks,\n",
    "})\n",
    "\n",
    "dataset"
   ]
  },
  {
   "cell_type": "code",
   "execution_count": null,
   "id": "7e7aacea",
   "metadata": {},
   "outputs": [],
   "source": []
  }
 ],
 "metadata": {
  "kernelspec": {
   "display_name": "practicumNLP-py311",
   "language": "python",
   "name": "python3"
  },
  "language_info": {
   "codemirror_mode": {
    "name": "ipython",
    "version": 3
   },
   "file_extension": ".py",
   "mimetype": "text/x-python",
   "name": "python",
   "nbconvert_exporter": "python",
   "pygments_lexer": "ipython3",
   "version": "3.11.13"
  }
 },
 "nbformat": 4,
 "nbformat_minor": 5
}
