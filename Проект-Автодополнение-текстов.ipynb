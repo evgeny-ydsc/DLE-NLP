{
 "cells": [
  {
   "cell_type": "markdown",
   "metadata": {},
   "source": [
    "# Проект Автодополнение текстов"
   ]
  },
  {
   "cell_type": "markdown",
   "metadata": {},
   "source": [
    "Вы работаете в соцсетевом приложении, где пользователи постят короткие тексты. В продукте стоит задача — добавить возможность автодополнения текстов. Разработчики просят вас создать модель, которую можно запускать на мобильных устройствах. Для смартфонов есть значительные требования по оперативной памяти и скорости работы, так что важна легковесность модели. "
   ]
  },
  {
   "cell_type": "markdown",
   "metadata": {},
   "source": [
    "## Постановка задачи\n",
    "**Создать нейросеть, которая на основе начала фразы предсказывает её продолжение**.\n",
    "\n",
    "Поэтапное описание задачи:\n",
    "1. Взять датасет от разработчиков, очистить его, подготовить для обучения модели.\n",
    "1. Реализовать и обучить модель на основе рекуррентных нейронных сетей.\n",
    "1. Замерить качество разработанной и обученной модели.\n",
    "1. Взять более «тяжёлую» предобученную модель из Transformers и замерить её качество.\n",
    "1. Проанализировать результаты и **дать рекомендации** разработчикам: стоит ли **использовать лёгкую модель или** лучше постараться поработать с ограничениями по памяти и **использовать большую предобученную**.\n",
    "\n",
    "## Критерии успеха\n",
    "- Используемые метрики качества: ROUGE-1 и ROUGE-2\n",
    "- Минимальных порогов качества модели в задаче не задано\n",
    "\n",
    "\n",
    "## Описание данных\n",
    "\n",
    "датасет с короткими постами sentiment140\n",
    "\n",
    "https://code.s3.yandex.net/deep-learning/tweets.txt"
   ]
  },
  {
   "cell_type": "markdown",
   "metadata": {},
   "source": [
    "# Этап 0. Подготовка окружения"
   ]
  },
  {
   "cell_type": "markdown",
   "metadata": {},
   "source": [
    "В задании требовалось весь код убрать в директории. Код доступен тут:\n",
    "\n",
    "https://github.com/evgeny-ydsc/DLE-NLP"
   ]
  },
  {
   "cell_type": "code",
   "execution_count": 1,
   "metadata": {},
   "outputs": [],
   "source": [
    "#!pip install -r requirements_sprint_2_project.txt"
   ]
  },
  {
   "cell_type": "code",
   "execution_count": 2,
   "metadata": {},
   "outputs": [
    {
     "name": "stderr",
     "output_type": "stream",
     "text": [
      "c:\\ProgramData\\anaconda3\\envs\\practicumNLP-py311\\Lib\\site-packages\\tqdm\\auto.py:21: TqdmWarning: IProgress not found. Please update jupyter and ipywidgets. See https://ipywidgets.readthedocs.io/en/stable/user_install.html\n",
      "  from .autonotebook import tqdm as notebook_tqdm\n"
     ]
    }
   ],
   "source": [
    "import evaluate\n",
    "from src.data_utils import download_dataset\n",
    "from src.next_token_dataset import prepare_loaders\n",
    "from src.lstm_model import LSTMGenerator\n",
    "from src.lstm_train_eval import ModelTrainer"
   ]
  },
  {
   "cell_type": "markdown",
   "metadata": {},
   "source": [
    "# Этап 1. Сбор и подготовка данных"
   ]
  },
  {
   "cell_type": "markdown",
   "metadata": {},
   "source": [
    "👷🚧🚧🚧🚧🚧 перед загрузкой на GPU заменить 200 на 20000"
   ]
  },
  {
   "cell_type": "code",
   "execution_count": 3,
   "metadata": {},
   "outputs": [],
   "source": [
    "raw_data_path = download_dataset()\n",
    "train_loader, val_loader, test_loader, tokenizer, val_texts, test_texts = \\\n",
    "    prepare_loaders (raw_data_path, max_texts_count=50)"
   ]
  },
  {
   "cell_type": "markdown",
   "metadata": {},
   "source": [
    "# Этап 2. Реализация рекуррентной сети\n"
   ]
  },
  {
   "cell_type": "code",
   "execution_count": 4,
   "metadata": {},
   "outputs": [],
   "source": [
    "model = LSTMGenerator(tokenizer)"
   ]
  },
  {
   "cell_type": "markdown",
   "metadata": {},
   "source": [
    "# Этап 3. Тренировка модели"
   ]
  },
  {
   "cell_type": "code",
   "execution_count": 5,
   "metadata": {},
   "outputs": [
    {
     "name": "stderr",
     "output_type": "stream",
     "text": [
      "100%|██████████| 10/10 [00:00<00:00, 14.18it/s]\n"
     ]
    },
    {
     "name": "stdout",
     "output_type": "stream",
     "text": [
      "Epoch 1 | Train Loss: 10.295 | Val Loss: 10.200 | Val Accuracy: 0.00%| rouge1: 0.000 | rouge2: 0.000\n"
     ]
    },
    {
     "name": "stderr",
     "output_type": "stream",
     "text": [
      "100%|██████████| 10/10 [00:00<00:00, 16.45it/s]\n"
     ]
    },
    {
     "name": "stdout",
     "output_type": "stream",
     "text": [
      "Epoch 2 | Train Loss: 9.528 | Val Loss: 8.981 | Val Accuracy: 4.44%| rouge1: 0.000 | rouge2: 0.000\n"
     ]
    },
    {
     "name": "stderr",
     "output_type": "stream",
     "text": [
      "100%|██████████| 10/10 [00:00<00:00, 14.21it/s]\n"
     ]
    },
    {
     "name": "stdout",
     "output_type": "stream",
     "text": [
      "Epoch 3 | Train Loss: 6.531 | Val Loss: 8.572 | Val Accuracy: 6.67%| rouge1: 0.000 | rouge2: 0.000\n"
     ]
    }
   ],
   "source": [
    "trainer = ModelTrainer (model, tokenizer)\n",
    "trainer.train(train_loader, val_loader, val_texts)"
   ]
  },
  {
   "cell_type": "code",
   "execution_count": 6,
   "metadata": {},
   "outputs": [
    {
     "name": "stdout",
     "output_type": "stream",
     "text": [
      "оригинальная строка: really dont feel like getting up today but got to study to for tomorrows practical exam\n",
      "оригинальное начало: really dont feel like getting up today but got to study to for to\n",
      "оригинальный конец : morrows practical exam\n",
      "предсказанный конец: iiiiiiiiiiiiiiiiiiiiii\n",
      "rouge1=0.000, rouge2=0.000\n",
      "\n",
      "оригинальная строка: oh manwas ironing jeancjumbes fave top to wear to a meeting burnt it\n",
      "оригинальное начало: oh manwas ironing jeancjumbes fave top to wear to a\n",
      "оригинальный конец :  meeting burnt it\n",
      "предсказанный конец: iiiiiiiiiiiiiiiii\n",
      "rouge1=0.000, rouge2=0.000\n",
      "\n",
      "оригинальная строка: where did u move to i thought u were already in sd hmmm random u found me glad to hear yer doing well\n",
      "оригинальное начало: where did u move to i thought u were already in sd hmmm random u found me g\n",
      "оригинальный конец : lad to hear yer doing well\n",
      "предсказанный конец: iiiiiiiiiiiiiiiiiiiiiiiiii\n",
      "rouge1=0.000, rouge2=0.000\n",
      "\n"
     ]
    }
   ],
   "source": [
    "rouge = evaluate.load(\"rouge\")\n",
    "for line in test_texts[:3]:\n",
    "    l = len(line)\n",
    "    i = int(l*0.75)\n",
    "    start = line [:i]\n",
    "    finish = line [i:]\n",
    "    predicted_finish = model.generate_output_text(start, l-i)\n",
    "    results = rouge.compute(predictions=[predicted_finish], references=[finish])\n",
    "    print (f\"оригинальная строка: {line}\")\n",
    "    print (f\"оригинальное начало: {start}\")\n",
    "    print (f\"оригинальный конец : {finish}\")\n",
    "    print (f\"предсказанный конец: {predicted_finish}\")\n",
    "    print (f\"rouge1={results['rouge1']:.3f}, rouge2={results['rouge2']:.3f}\\n\")\n",
    "    "
   ]
  },
  {
   "cell_type": "markdown",
   "metadata": {},
   "source": [
    "👷🚨[SOS] тут, очевидно, что в функции generate_output_text (и/или в forward) я делаю что-то не так - прошу помочь разобраться."
   ]
  },
  {
   "cell_type": "markdown",
   "metadata": {},
   "source": [
    "# Этап 4. Использование предобученного трансформера"
   ]
  },
  {
   "cell_type": "markdown",
   "metadata": {},
   "source": [
    "# Этап 5. Формулирование выводов"
   ]
  },
  {
   "cell_type": "markdown",
   "metadata": {},
   "source": [
    "\n",
    "- В соответствии с поставленной задачей(см. первый раздел)\n",
    "    - была проведена подготовка данных и их разведочный анализ, в результате которых:\n",
    "        - были исправлены имена полей, исправлены типы данных, удалены малополезные признаки (в т. ч. с учётом мультиколлинеарности), заполнены пропуски, удалены явные и неявные дубликаты, ...\n",
    "    - была натренирована модель, предсказывающая ...\n",
    "        - выбрана наиболее оптимальная модель - **...**, показавшая наилучшие результаты:\n",
    "            - качество предсказания: ...\n",
    "            - это удовлетворяет заданный критерий качества: ..."
   ]
  }
 ],
 "metadata": {
  "ExecuteTimeLog": [
   {
    "duration": 45,
    "start_time": "2025-04-13T00:31:37.601Z"
   },
   {
    "duration": 6,
    "start_time": "2025-04-13T00:35:12.169Z"
   },
   {
    "duration": 3185,
    "start_time": "2025-04-16T20:05:37.378Z"
   },
   {
    "duration": 7396,
    "start_time": "2025-04-16T20:06:11.392Z"
   },
   {
    "duration": 1458,
    "start_time": "2025-04-16T20:07:06.981Z"
   },
   {
    "duration": 3384,
    "start_time": "2025-04-16T20:07:10.928Z"
   },
   {
    "duration": 2634,
    "start_time": "2025-04-16T20:07:14.314Z"
   },
   {
    "duration": 3233,
    "start_time": "2025-04-16T20:07:16.950Z"
   },
   {
    "duration": 4,
    "start_time": "2025-04-16T20:07:21.523Z"
   },
   {
    "duration": 15,
    "start_time": "2025-04-16T20:07:22.279Z"
   },
   {
    "duration": 1126,
    "start_time": "2025-04-16T20:07:24.193Z"
   },
   {
    "duration": 170,
    "start_time": "2025-04-16T20:07:27.323Z"
   },
   {
    "duration": 343,
    "start_time": "2025-04-16T20:07:28.598Z"
   },
   {
    "duration": 2,
    "start_time": "2025-04-16T20:07:28.943Z"
   },
   {
    "duration": 30,
    "start_time": "2025-04-16T20:07:28.982Z"
   },
   {
    "duration": 135,
    "start_time": "2025-04-16T20:07:29.974Z"
   },
   {
    "duration": 15,
    "start_time": "2025-04-16T20:07:30.273Z"
   },
   {
    "duration": 15,
    "start_time": "2025-04-16T20:07:30.425Z"
   },
   {
    "duration": 172,
    "start_time": "2025-04-16T20:07:30.924Z"
   },
   {
    "duration": 119,
    "start_time": "2025-04-16T20:07:31.757Z"
   },
   {
    "duration": 1209,
    "start_time": "2025-04-16T20:07:32.102Z"
   },
   {
    "duration": 493,
    "start_time": "2025-04-16T20:07:33.313Z"
   },
   {
    "duration": 173,
    "start_time": "2025-04-16T20:07:34.241Z"
   },
   {
    "duration": 30,
    "start_time": "2025-04-16T20:07:34.685Z"
   },
   {
    "duration": 138,
    "start_time": "2025-04-16T20:07:35.869Z"
   },
   {
    "duration": 10897,
    "start_time": "2025-04-16T20:07:36.199Z"
   },
   {
    "duration": 1619,
    "start_time": "2025-04-16T20:07:47.105Z"
   },
   {
    "duration": 362,
    "start_time": "2025-04-16T20:07:48.726Z"
   },
   {
    "duration": 42,
    "start_time": "2025-04-16T20:07:49.090Z"
   },
   {
    "duration": 32,
    "start_time": "2025-04-16T20:07:49.134Z"
   },
   {
    "duration": 29,
    "start_time": "2025-04-16T20:07:53.399Z"
   },
   {
    "duration": 27,
    "start_time": "2025-04-16T20:07:55.160Z"
   },
   {
    "duration": 6,
    "start_time": "2025-04-16T20:07:57.128Z"
   },
   {
    "duration": 165,
    "start_time": "2025-04-16T20:07:59.059Z"
   },
   {
    "duration": 28,
    "start_time": "2025-04-16T20:08:02.601Z"
   },
   {
    "duration": 1987,
    "start_time": "2025-04-16T20:08:16.912Z"
   },
   {
    "duration": 4,
    "start_time": "2025-04-16T20:08:18.905Z"
   },
   {
    "duration": 16,
    "start_time": "2025-04-16T20:08:21.456Z"
   },
   {
    "duration": 2051,
    "start_time": "2025-04-16T20:08:30.687Z"
   },
   {
    "duration": 7,
    "start_time": "2025-04-16T20:08:35.748Z"
   },
   {
    "duration": 11,
    "start_time": "2025-04-16T20:08:36.778Z"
   }
  ],
  "kernelspec": {
   "display_name": "practicumNLP-py311",
   "language": "python",
   "name": "python3"
  },
  "language_info": {
   "codemirror_mode": {
    "name": "ipython",
    "version": 3
   },
   "file_extension": ".py",
   "mimetype": "text/x-python",
   "name": "python",
   "nbconvert_exporter": "python",
   "pygments_lexer": "ipython3",
   "version": "3.11.13"
  },
  "toc": {
   "base_numbering": 1,
   "nav_menu": {},
   "number_sections": true,
   "sideBar": true,
   "skip_h1_title": true,
   "title_cell": "Table of Contents",
   "title_sidebar": "Contents",
   "toc_cell": false,
   "toc_position": {},
   "toc_section_display": true,
   "toc_window_display": false
  }
 },
 "nbformat": 4,
 "nbformat_minor": 2
}
